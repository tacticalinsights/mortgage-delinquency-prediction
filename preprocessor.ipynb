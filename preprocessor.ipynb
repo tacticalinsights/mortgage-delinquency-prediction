{
 "cells": [
  {
   "cell_type": "code",
   "execution_count": 1,
   "id": "978a2ca1",
   "metadata": {},
   "outputs": [],
   "source": [
    "import numpy as np\n",
    "import modin.pandas as pd\n",
    "import matplotlib.pyplot as plt\n",
    "import seaborn as sns"
   ]
  },
  {
   "cell_type": "code",
   "execution_count": 2,
   "id": "53862f3f",
   "metadata": {},
   "outputs": [
    {
     "name": "stderr",
     "output_type": "stream",
     "text": [
      "2023-05-22 13:14:01,693\tINFO worker.py:1616 -- Started a local Ray instance. View the dashboard at \u001b[1m\u001b[32m127.0.0.1:8265 \u001b[39m\u001b[22m\n"
     ]
    },
    {
     "data": {
      "text/html": [
       "<div>\n",
       "    <div style=\"margin-left: 50px;display: flex;flex-direction: row;align-items: center\">\n",
       "        <h3 style=\"color: var(--jp-ui-font-color0)\">Ray</h3>\n",
       "        <svg version=\"1.1\" id=\"ray\" width=\"3em\" viewBox=\"0 0 144.5 144.6\" style=\"margin-left: 3em;margin-right: 3em\">\n",
       "            <g id=\"layer-1\">\n",
       "                <path fill=\"#00a2e9\" class=\"st0\" d=\"M97.3,77.2c-3.8-1.1-6.2,0.9-8.3,5.1c-3.5,6.8-9.9,9.9-17.4,9.6S58,88.1,54.8,81.2c-1.4-3-3-4-6.3-4.1\n",
       "                    c-5.6-0.1-9.9,0.1-13.1,6.4c-3.8,7.6-13.6,10.2-21.8,7.6C5.2,88.4-0.4,80.5,0,71.7c0.1-8.4,5.7-15.8,13.8-18.2\n",
       "                    c8.4-2.6,17.5,0.7,22.3,8c1.3,1.9,1.3,5.2,3.6,5.6c3.9,0.6,8,0.2,12,0.2c1.8,0,1.9-1.6,2.4-2.8c3.5-7.8,9.7-11.8,18-11.9\n",
       "                    c8.2-0.1,14.4,3.9,17.8,11.4c1.3,2.8,2.9,3.6,5.7,3.3c1-0.1,2,0.1,3,0c2.8-0.5,6.4,1.7,8.1-2.7s-2.3-5.5-4.1-7.5\n",
       "                    c-5.1-5.7-10.9-10.8-16.1-16.3C84,38,81.9,37.1,78,38.3C66.7,42,56.2,35.7,53,24.1C50.3,14,57.3,2.8,67.7,0.5\n",
       "                    C78.4-2,89,4.7,91.5,15.3c0.1,0.3,0.1,0.5,0.2,0.8c0.7,3.4,0.7,6.9-0.8,9.8c-1.7,3.2-0.8,5,1.5,7.2c6.7,6.5,13.3,13,19.8,19.7\n",
       "                    c1.8,1.8,3,2.1,5.5,1.2c9.1-3.4,17.9-0.6,23.4,7c4.8,6.9,4.6,16.1-0.4,22.9c-5.4,7.2-14.2,9.9-23.1,6.5c-2.3-0.9-3.5-0.6-5.1,1.1\n",
       "                    c-6.7,6.9-13.6,13.7-20.5,20.4c-1.8,1.8-2.5,3.2-1.4,5.9c3.5,8.7,0.3,18.6-7.7,23.6c-7.9,5-18.2,3.8-24.8-2.9\n",
       "                    c-6.4-6.4-7.4-16.2-2.5-24.3c4.9-7.8,14.5-11,23.1-7.8c3,1.1,4.7,0.5,6.9-1.7C91.7,98.4,98,92.3,104.2,86c1.6-1.6,4.1-2.7,2.6-6.2\n",
       "                    c-1.4-3.3-3.8-2.5-6.2-2.6C99.8,77.2,98.9,77.2,97.3,77.2z M72.1,29.7c5.5,0.1,9.9-4.3,10-9.8c0-0.1,0-0.2,0-0.3\n",
       "                    C81.8,14,77,9.8,71.5,10.2c-5,0.3-9,4.2-9.3,9.2c-0.2,5.5,4,10.1,9.5,10.3C71.8,29.7,72,29.7,72.1,29.7z M72.3,62.3\n",
       "                    c-5.4-0.1-9.9,4.2-10.1,9.7c0,0.2,0,0.3,0,0.5c0.2,5.4,4.5,9.7,9.9,10c5.1,0.1,9.9-4.7,10.1-9.8c0.2-5.5-4-10-9.5-10.3\n",
       "                    C72.6,62.3,72.4,62.3,72.3,62.3z M115,72.5c0.1,5.4,4.5,9.7,9.8,9.9c5.6-0.2,10-4.8,10-10.4c-0.2-5.4-4.6-9.7-10-9.7\n",
       "                    c-5.3-0.1-9.8,4.2-9.9,9.5C115,72.1,115,72.3,115,72.5z M19.5,62.3c-5.4,0.1-9.8,4.4-10,9.8c-0.1,5.1,5.2,10.4,10.2,10.3\n",
       "                    c5.6-0.2,10-4.9,9.8-10.5c-0.1-5.4-4.5-9.7-9.9-9.6C19.6,62.3,19.5,62.3,19.5,62.3z M71.8,134.6c5.9,0.2,10.3-3.9,10.4-9.6\n",
       "                    c0.5-5.5-3.6-10.4-9.1-10.8c-5.5-0.5-10.4,3.6-10.8,9.1c0,0.5,0,0.9,0,1.4c-0.2,5.3,4,9.8,9.3,10\n",
       "                    C71.6,134.6,71.7,134.6,71.8,134.6z\"/>\n",
       "            </g>\n",
       "        </svg>\n",
       "        <table>\n",
       "            <tr>\n",
       "                <td style=\"text-align: left\"><b>Python version:</b></td>\n",
       "                <td style=\"text-align: left\"><b>3.9.13</b></td>\n",
       "            </tr>\n",
       "            <tr>\n",
       "                <td style=\"text-align: left\"><b>Ray version:</b></td>\n",
       "                <td style=\"text-align: left\"><b> 2.4.0</b></td>\n",
       "            </tr>\n",
       "            <tr>\n",
       "    <td style=\"text-align: left\"><b>Dashboard:</b></td>\n",
       "    <td style=\"text-align: left\"><b><a href=\"http://127.0.0.1:8265\" target=\"_blank\">http://127.0.0.1:8265</a></b></td>\n",
       "</tr>\n",
       "\n",
       "        </table>\n",
       "    </div>\n",
       "</div>\n"
      ],
      "text/plain": [
       "RayContext(dashboard_url='127.0.0.1:8265', python_version='3.9.13', ray_version='2.4.0', ray_commit='4479f66d4db967d3c9dd0af2572061276ba926ba', address_info={'node_ip_address': '127.0.0.1', 'raylet_ip_address': '127.0.0.1', 'redis_address': None, 'object_store_address': 'tcp://127.0.0.1:65360', 'raylet_socket_name': 'tcp://127.0.0.1:65259', 'webui_url': '127.0.0.1:8265', 'session_dir': 'C:\\\\Users\\\\iksri\\\\AppData\\\\Local\\\\Temp\\\\ray\\\\session_2023-05-22_13-13-58_538544_10028', 'metrics_export_port': 65157, 'gcs_address': '127.0.0.1:65268', 'address': '127.0.0.1:65268', 'dashboard_agent_listen_port': 52365, 'node_id': '119006ea5518bac9545c7263acbc90112a7cf6c6c82baca9eb96d379'})"
      ]
     },
     "execution_count": 2,
     "metadata": {},
     "output_type": "execute_result"
    }
   ],
   "source": [
    "import ray\n",
    "ray.init(runtime_env={'env_vars': {'__MODIN_AUTOIMPORT_PANDAS__': '1'}})"
   ]
  },
  {
   "cell_type": "code",
   "execution_count": 3,
   "id": "ab3b84fe",
   "metadata": {},
   "outputs": [],
   "source": [
    "home = 'C:\\\\Users\\\\iksri\\\\Documents\\\\Data Science\\\\Projects\\\\Credit Risk\\\\Home Loan Level Data - Freddie Mac\\\\Datasets'"
   ]
  },
  {
   "cell_type": "code",
   "execution_count": 4,
   "id": "5c646564",
   "metadata": {
    "scrolled": true
   },
   "outputs": [
    {
     "name": "stderr",
     "output_type": "stream",
     "text": [
      "UserWarning: Distributing <class 'NoneType'> object. This may take some time.\n",
      "UserWarning: Distributing <class 'NoneType'> object. This may take some time.\n",
      "UserWarning: Distributing <class 'NoneType'> object. This may take some time.\n",
      "UserWarning: Distributing <class 'NoneType'> object. This may take some time.\n",
      "UserWarning: Distributing <class 'NoneType'> object. This may take some time.\n",
      "UserWarning: Distributing <class 'NoneType'> object. This may take some time.\n",
      "UserWarning: Distributing <class 'NoneType'> object. This may take some time.\n",
      "UserWarning: Distributing <class 'NoneType'> object. This may take some time.\n",
      "UserWarning: Distributing <class 'NoneType'> object. This may take some time.\n",
      "UserWarning: Distributing <class 'NoneType'> object. This may take some time.\n",
      "UserWarning: Distributing <class 'NoneType'> object. This may take some time.\n",
      "UserWarning: Distributing <class 'NoneType'> object. This may take some time.\n",
      "UserWarning: Distributing <class 'NoneType'> object. This may take some time.\n",
      "UserWarning: Distributing <class 'NoneType'> object. This may take some time.\n",
      "UserWarning: Distributing <class 'NoneType'> object. This may take some time.\n",
      "UserWarning: Distributing <class 'NoneType'> object. This may take some time.\n",
      "UserWarning: Distributing <class 'NoneType'> object. This may take some time.\n",
      "UserWarning: Distributing <class 'NoneType'> object. This may take some time.\n",
      "UserWarning: Distributing <class 'NoneType'> object. This may take some time.\n",
      "UserWarning: Distributing <class 'NoneType'> object. This may take some time.\n",
      "UserWarning: Distributing <class 'NoneType'> object. This may take some time.\n",
      "UserWarning: Distributing <class 'NoneType'> object. This may take some time.\n",
      "UserWarning: Distributing <class 'NoneType'> object. This may take some time.\n",
      "UserWarning: Distributing <class 'NoneType'> object. This may take some time.\n",
      "UserWarning: Distributing <class 'NoneType'> object. This may take some time.\n",
      "UserWarning: Distributing <class 'NoneType'> object. This may take some time.\n",
      "UserWarning: Distributing <class 'NoneType'> object. This may take some time.\n",
      "UserWarning: Distributing <class 'NoneType'> object. This may take some time.\n",
      "UserWarning: Distributing <class 'NoneType'> object. This may take some time.\n",
      "UserWarning: Distributing <class 'NoneType'> object. This may take some time.\n",
      "UserWarning: Distributing <class 'NoneType'> object. This may take some time.\n",
      "UserWarning: Distributing <class 'NoneType'> object. This may take some time.\n",
      "UserWarning: Distributing <class 'NoneType'> object. This may take some time.\n",
      "UserWarning: Distributing <class 'NoneType'> object. This may take some time.\n",
      "UserWarning: Distributing <class 'NoneType'> object. This may take some time.\n",
      "UserWarning: Distributing <class 'NoneType'> object. This may take some time.\n",
      "UserWarning: Distributing <class 'NoneType'> object. This may take some time.\n",
      "UserWarning: Distributing <class 'NoneType'> object. This may take some time.\n",
      "UserWarning: Distributing <class 'NoneType'> object. This may take some time.\n",
      "UserWarning: Distributing <class 'NoneType'> object. This may take some time.\n"
     ]
    }
   ],
   "source": [
    "q1_2010 = pd.DataFrame()\n",
    "q2_2010 = pd.DataFrame()\n",
    "q3_2010 = pd.DataFrame()\n",
    "q4_2010 = pd.DataFrame()\n",
    "q1_2011 = pd.DataFrame()\n",
    "q2_2011 = pd.DataFrame()\n",
    "q3_2011 = pd.DataFrame()\n",
    "q4_2011 = pd.DataFrame()\n",
    "q1_2012 = pd.DataFrame()\n",
    "q2_2012 = pd.DataFrame()\n",
    "q3_2012 = pd.DataFrame()\n",
    "q4_2012 = pd.DataFrame()\n",
    "q1_2013 = pd.DataFrame()\n",
    "q2_2013 = pd.DataFrame()\n",
    "q3_2013 = pd.DataFrame()\n",
    "q4_2013 = pd.DataFrame()\n",
    "q1_2014 = pd.DataFrame()\n",
    "q2_2014 = pd.DataFrame()\n",
    "q3_2014 = pd.DataFrame()\n",
    "q4_2014 = pd.DataFrame()\n",
    "q1_2015 = pd.DataFrame()\n",
    "q2_2015 = pd.DataFrame()\n",
    "q3_2015 = pd.DataFrame()\n",
    "q4_2015 = pd.DataFrame()\n",
    "q1_2016 = pd.DataFrame()\n",
    "q2_2016 = pd.DataFrame()\n",
    "q3_2016 = pd.DataFrame()\n",
    "q4_2016 = pd.DataFrame()\n",
    "q1_2017 = pd.DataFrame()\n",
    "q2_2017 = pd.DataFrame()\n",
    "q3_2017 = pd.DataFrame()\n",
    "q4_2017 = pd.DataFrame()\n",
    "\n",
    "qdatasets = [q1_2010, \n",
    "            q2_2010, \n",
    "            q3_2010, \n",
    "            q4_2010, \n",
    "            q1_2011, \n",
    "            q2_2011, \n",
    "            q3_2011, \n",
    "            q4_2011,\n",
    "            q1_2012, \n",
    "            q2_2012, \n",
    "            q3_2012, \n",
    "            q4_2012, \n",
    "            q1_2013, \n",
    "            q2_2013, \n",
    "            q3_2013, \n",
    "            q4_2013,\n",
    "            q1_2014, \n",
    "            q2_2014, \n",
    "            q3_2014, \n",
    "            q4_2014, \n",
    "            q1_2015, \n",
    "            q2_2015, \n",
    "            q3_2015, \n",
    "            q4_2015,\n",
    "            q1_2016, \n",
    "            q2_2016, \n",
    "            q3_2016, \n",
    "            q4_2016, \n",
    "            q1_2017, \n",
    "            q2_2017, \n",
    "            q3_2017, \n",
    "            q4_2017]\n",
    "\n",
    "y2010 = pd.DataFrame()\n",
    "y2011 = pd.DataFrame()\n",
    "y2012 = pd.DataFrame()\n",
    "y2013 = pd.DataFrame()\n",
    "y2014 = pd.DataFrame()\n",
    "y2015 = pd.DataFrame()\n",
    "y2016 = pd.DataFrame()\n",
    "y2017 = pd.DataFrame()\n",
    "\n",
    "ydatasets = [y2010,\n",
    "             y2011,\n",
    "             y2012,\n",
    "             y2013,\n",
    "             y2014,\n",
    "             y2015,\n",
    "             y2016,\n",
    "             y2017,]"
   ]
  },
  {
   "cell_type": "code",
   "execution_count": 5,
   "id": "ad2972b8",
   "metadata": {},
   "outputs": [],
   "source": [
    "i = 0\n",
    "j = 0\n",
    "for yr in range(2010, 2018):\n",
    "    for q in range(1, 5):\n",
    "        qdatasets[j] = pd.read_csv(home + f\"\\\\{yr}_{q}.csv\", index_col = 'Loan Sequence Number')\n",
    "        qdatasets[j].drop('Unnamed: 0', axis = 1, inplace = True)\n",
    "        j += 1\n",
    "    ydatasets[i] = pd.concat([qdatasets[j - 1], qdatasets[j - 2], qdatasets[j - 3], qdatasets[j - 4]])\n",
    "    i += 1"
   ]
  },
  {
   "cell_type": "code",
   "execution_count": 6,
   "id": "4cd10565",
   "metadata": {},
   "outputs": [],
   "source": [
    "for df in ydatasets:\n",
    "    \n",
    "    # removing typos in column names\n",
    "    df.columns = ['Credit Score', 'First Payment Date', 'First Time Homebuyer Flag',\n",
    "                  'Maturity Date', 'Metropolitan Statistical Area',\n",
    "                  'Mortgage Insurance Percentage', 'Number of Units', 'Occupancy Status',\n",
    "                  'Original Combined Loan-to-Value', 'Original Debt-to-Income Ratio',\n",
    "                  'Original UPB', 'Original Loan-to-Value', 'Original Interest Rate',\n",
    "                  'Channel', 'Prepayment Penalty Mortgage Flag', 'Amortization Type',\n",
    "                  'Property State', 'Property Type', 'Postal Code', 'Loan Purpose',\n",
    "                  'Original Loan Term', 'Number of Borrowers', 'Seller Name',\n",
    "                  'Servicer Name', 'Super Conforming Flag',\n",
    "                  'Pre-Relief Refinance Loan Sequence Number', 'Program Indicator',\n",
    "                  'Relief Refinance Indicator', 'Property Valuation Method',\n",
    "                  'Interest Only Indicator', 'Delinquent']\n",
    "    \n",
    "    # dropping all HARP loans\n",
    "    df.drop(df[df['Relief Refinance Indicator'].isnull() == False].index, inplace = True)\n",
    "    \n",
    "    # dropping unneeded or repetitve features\n",
    "    df.drop(['Original Combined Loan-to-Value', 'Metropolitan Statistical Area', 'Mortgage Insurance Percentage', 'Pre-Relief Refinance Loan Sequence Number', 'Program Indicator', 'Relief Refinance Indicator', 'Property Valuation Method', 'Prepayment Penalty Mortgage Flag', 'Amortization Type', 'Seller Name', 'Servicer Name', 'Super Conforming Flag', 'Interest Only Indicator'], axis = 1, inplace = True)\n",
    "    \n",
    "    # highlighting non-explicity null values\n",
    "    df['Credit Score'] = df['Credit Score'].apply(lambda x: np.nan if x == 9999 else x)\n",
    "    df['First Time Homebuyer Flag'] = df['First Time Homebuyer Flag'].apply(lambda x: np.nan if x == '9' else x)\n",
    "    df['Number of Units'] = df['Number of Units'].apply(lambda x: np.nan if x == 9 else x)\n",
    "    df['Occupancy Status'] = df['Occupancy Status'].apply(lambda x: np.nan if str(x).isdigit() else x)\n",
    "    df['Original Debt-to-Income Ratio'] = df['Original Debt-to-Income Ratio'].apply(lambda x: np.nan if x == 999 else x)\n",
    "    df['Original Loan-to-Value'] = df['Original Loan-to-Value'].apply(lambda x: np.nan if x == 999 else x)\n",
    "    df['Channel'] = df['Channel'].apply(lambda x: np.nan if x == '9' else x)\n",
    "    df['Property Type'] = df['Property Type'].apply(lambda x: np.nan if str(x).isdigit() else x)\n",
    "    df['Loan Purpose'] = df['Loan Purpose'].apply(lambda x: np.nan if str(x).isdigit() else x)\n",
    "    df['Number of Borrowers'] = df['Number of Borrowers'].apply(lambda x: np.nan if x == 99 else x)\n",
    "    \n",
    "    # dropping all remaining NULL values (< 0.001% of data)\n",
    "    df.dropna(inplace = True) \n",
    "    \n",
    "    # to avoid name inter-feature conflicts during one-hot-encoding \n",
    "    df['Property Type'] = df['Property Type'].apply(lambda x: 'CN' if x == 'CO' else x) # condo\n",
    "    df['Loan Purpose'] = df['Loan Purpose'].apply(lambda x: 'PNR' if x == 'P' else x) # purchase no refinance\n",
    "    df['Loan Purpose'] = df['Loan Purpose'].apply(lambda x: 'RCO' if x == 'C' else x) # refinance cash out\n",
    "    df['Loan Purpose'] = df['Loan Purpose'].apply(lambda x: 'RNC' if x == 'N' else x) # refinance no cash\n",
    "    \n",
    "    # split date into year and month\n",
    "    df['First Payment Year'] = df['First Payment Date'].apply(lambda s: int(str(s)[:4]))\n",
    "    df['First Payment Month'] = df['First Payment Date'].apply(lambda s: int(str(s)[4:7]))\n",
    "    df['Maturity Year'] = df['Maturity Date'].apply(lambda s: int(str(s)[:4]))\n",
    "    df['Maturity Month'] = df['Maturity Date'].apply(lambda s: int(str(s)[4:7]))\n",
    "    df.drop(['First Payment Date', 'Maturity Date'], axis = 1, inplace = True)"
   ]
  },
  {
   "cell_type": "code",
   "execution_count": 7,
   "id": "688743bc",
   "metadata": {},
   "outputs": [
    {
     "name": "stdout",
     "output_type": "stream",
     "text": [
      "\u001b[2m\u001b[1m\u001b[36m(autoscaler +5m15s)\u001b[0m Tip: use `ray status` to view detailed cluster status. To disable these messages, set RAY_SCHEDULER_EVENTS=0.\n",
      "\u001b[2m\u001b[1m\u001b[33m(autoscaler +5m15s)\u001b[0m Warning: The following resource request cannot be scheduled right now: {'CPU': 1.0}. This is likely due to all cluster resources being claimed by actors. Consider creating fewer actors or adding more nodes to this Ray cluster.\n"
     ]
    }
   ],
   "source": [
    "i = 0\n",
    "for yr in range(2010, 2018):\n",
    "    ydatasets[i].sample(n = len(ydatasets[i]) // 10, random_state = 42).to_csv(home + f\"\\\\sample_{yr}.csv\")\n",
    "    i += 1"
   ]
  },
  {
   "cell_type": "code",
   "execution_count": 8,
   "id": "af12b791",
   "metadata": {},
   "outputs": [],
   "source": [
    "for i in range(8):\n",
    "    # identify object features and perform one-hot-encoding\n",
    "    obj_feats = []\n",
    "    for col in ydatasets[i].columns:\n",
    "        if ydatasets[i][col].dtype == 'O':\n",
    "            obj_feats.append(col)\n",
    "    ydatasets[i] = pd.get_dummies(ydatasets[i], columns = obj_feats, drop_first = True, prefix = '', prefix_sep = '')"
   ]
  },
  {
   "cell_type": "code",
   "execution_count": 9,
   "id": "9f5ad8d0",
   "metadata": {},
   "outputs": [],
   "source": [
    "i = 0\n",
    "for yr in range(2010, 2018):\n",
    "    ydatasets[i].to_csv(home + f\"\\\\full_{yr}.csv\")\n",
    "    i += 1"
   ]
  },
  {
   "cell_type": "code",
   "execution_count": null,
   "id": "c44180c6",
   "metadata": {},
   "outputs": [],
   "source": []
  }
 ],
 "metadata": {
  "kernelspec": {
   "display_name": "Python 3 (ipykernel)",
   "language": "python",
   "name": "python3"
  },
  "language_info": {
   "codemirror_mode": {
    "name": "ipython",
    "version": 3
   },
   "file_extension": ".py",
   "mimetype": "text/x-python",
   "name": "python",
   "nbconvert_exporter": "python",
   "pygments_lexer": "ipython3",
   "version": "3.9.13"
  }
 },
 "nbformat": 4,
 "nbformat_minor": 5
}
