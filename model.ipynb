{
 "cells": [
  {
   "cell_type": "code",
   "execution_count": 1,
   "id": "8e706915",
   "metadata": {},
   "outputs": [],
   "source": [
    "from collections import Counter\n",
    "import numpy as np\n",
    "import pandas as pd\n",
    "import matplotlib.pyplot as plt\n",
    "from imblearn.over_sampling import SMOTE\n",
    "from sklearn.preprocessing import MinMaxScaler\n",
    "from sklearn.model_selection import train_test_split, GridSearchCV, RandomizedSearchCV\n",
    "from sklearn.metrics import confusion_matrix, classification_report, roc_auc_score, roc_curve\n",
    "from sklearn.linear_model import LogisticRegression\n",
    "from sklearn.tree import DecisionTreeClassifier\n",
    "from sklearn.ensemble import RandomForestClassifier\n",
    "import lightgbm as lgb\n",
    "import lazypredict\n",
    "from lazypredict.Supervised import LazyClassifier"
   ]
  },
  {
   "cell_type": "code",
   "execution_count": 2,
   "id": "b661f044",
   "metadata": {},
   "outputs": [],
   "source": [
    "home = 'C:\\\\Users\\\\iksri\\\\Documents\\\\Data Science\\\\Projects\\\\Credit Risk\\\\Home Loan Level Data - Freddie Mac\\\\Datasets'"
   ]
  },
  {
   "cell_type": "code",
   "execution_count": 3,
   "id": "fca9aa20",
   "metadata": {},
   "outputs": [],
   "source": [
    "y2010 = pd.DataFrame()\n",
    "y2011 = pd.DataFrame()\n",
    "y2012 = pd.DataFrame()\n",
    "y2013 = pd.DataFrame()\n",
    "y2014 = pd.DataFrame()\n",
    "y2015 = pd.DataFrame()\n",
    "y2016 = pd.DataFrame()\n",
    "y2017 = pd.DataFrame()\n",
    "\n",
    "data = [y2010,\n",
    "        y2011,\n",
    "        y2012,\n",
    "        y2013,\n",
    "        y2014,\n",
    "        y2015,\n",
    "        y2016,\n",
    "        y2017]"
   ]
  },
  {
   "cell_type": "code",
   "execution_count": 4,
   "id": "789eb382",
   "metadata": {},
   "outputs": [],
   "source": [
    "i = 0\n",
    "for yr in range(2010, 2018):\n",
    "    data[i] = pd.read_csv(home + f\"\\\\sample_{yr}.csv\", index_col = 'Loan Sequence Number')\n",
    "    i += 1"
   ]
  },
  {
   "cell_type": "code",
   "execution_count": 5,
   "id": "e204efdf",
   "metadata": {},
   "outputs": [],
   "source": [
    "df = pd.concat(data[:-1]).sample(200000)"
   ]
  },
  {
   "cell_type": "markdown",
   "id": "5fd5ab84",
   "metadata": {},
   "source": [
    "## Model Training"
   ]
  },
  {
   "cell_type": "code",
   "execution_count": 6,
   "id": "41d30234",
   "metadata": {},
   "outputs": [],
   "source": [
    "scaler = MinMaxScaler()\n",
    "scaled_features = scaler.fit_transform(df.drop('Delinquent', axis = 1))"
   ]
  },
  {
   "cell_type": "code",
   "execution_count": 7,
   "id": "1f978f00",
   "metadata": {},
   "outputs": [],
   "source": [
    "X = scaled_features\n",
    "y = df['Delinquent'].values\n",
    "X_train, X_test, y_train, y_test = train_test_split(X, y, test_size = 0.2)"
   ]
  },
  {
   "cell_type": "code",
   "execution_count": 8,
   "id": "84c3bac0",
   "metadata": {
    "scrolled": true
   },
   "outputs": [],
   "source": [
    "clf = LazyClassifier(verbose = 2,ignore_warnings = False, custom_metric = None)"
   ]
  },
  {
   "cell_type": "code",
   "execution_count": 9,
   "id": "6e8923d8",
   "metadata": {
    "scrolled": true
   },
   "outputs": [
    {
     "name": "stderr",
     "output_type": "stream",
     "text": [
      "  3%|▎         | 1/29 [00:00<00:17,  1.57it/s]"
     ]
    },
    {
     "name": "stdout",
     "output_type": "stream",
     "text": [
      "{'Model': 'AdaBoostClassifier', 'Accuracy': 0.9065, 'Balanced Accuracy': 0.5074268470245644, 'ROC AUC': 0.5074268470245643, 'F1 Score': 0.86441952171552, 'Time taken': 0.6380515098571777}\n"
     ]
    },
    {
     "name": "stderr",
     "output_type": "stream",
     "text": [
      "\r",
      "  7%|▋         | 2/29 [00:01<00:18,  1.48it/s]"
     ]
    },
    {
     "name": "stdout",
     "output_type": "stream",
     "text": [
      "{'Model': 'BaggingClassifier', 'Accuracy': 0.905, 'Balanced Accuracy': 0.5161335775679865, 'ROC AUC': 0.5161335775679864, 'F1 Score': 0.8671032459348335, 'Time taken': 0.7005038261413574}\n",
      "{'Model': 'BernoulliNB', 'Accuracy': 0.903, 'Balanced Accuracy': 0.5054952796956461, 'ROC AUC': 0.5054952796956461, 'F1 Score': 0.8625663157894737, 'Time taken': 0.03886079788208008}\n"
     ]
    },
    {
     "name": "stderr",
     "output_type": "stream",
     "text": [
      " 21%|██        | 6/29 [00:08<00:28,  1.26s/it]"
     ]
    },
    {
     "name": "stdout",
     "output_type": "stream",
     "text": [
      "{'Model': 'CalibratedClassifierCV', 'Accuracy': 0.906, 'Balanced Accuracy': 0.5, 'ROC AUC': 0.5, 'F1 Score': 0.8613179433368309, 'Time taken': 6.560213804244995}\n",
      "CategoricalNB model failed to execute\n",
      "Negative values in data passed to CategoricalNB (input X)\n",
      "{'Model': 'DecisionTreeClassifier', 'Accuracy': 0.8325, 'Balanced Accuracy': 0.5357134469963835, 'ROC AUC': 0.5357134469963835, 'F1 Score': 0.8367927733802711, 'Time taken': 0.12136983871459961}\n",
      "{'Model': 'DummyClassifier', 'Accuracy': 0.906, 'Balanced Accuracy': 0.5, 'ROC AUC': 0.5, 'F1 Score': 0.8613179433368309, 'Time taken': 0.02700495719909668}\n",
      "{'Model': 'ExtraTreeClassifier', 'Accuracy': 0.835, 'Balanced Accuracy': 0.522791320276173, 'ROC AUC': 0.522791320276173, 'F1 Score': 0.8361589955979266, 'Time taken': 0.035361528396606445}\n"
     ]
    },
    {
     "name": "stderr",
     "output_type": "stream",
     "text": [
      "\r",
      " 31%|███       | 9/29 [00:09<00:16,  1.22it/s]"
     ]
    },
    {
     "name": "stdout",
     "output_type": "stream",
     "text": [
      "{'Model': 'ExtraTreesClassifier', 'Accuracy': 0.905, 'Balanced Accuracy': 0.5042153961767883, 'ROC AUC': 0.5042153961767883, 'F1 Score': 0.8627095578874375, 'Time taken': 1.092029094696045}\n",
      "{'Model': 'GaussianNB', 'Accuracy': 0.5865, 'Balanced Accuracy': 0.581108214738622, 'ROC AUC': 0.581108214738622, 'F1 Score': 0.672081058288002, 'Time taken': 0.03718447685241699}\n"
     ]
    },
    {
     "name": "stderr",
     "output_type": "stream",
     "text": [
      "\r",
      " 38%|███▊      | 11/29 [00:09<00:10,  1.68it/s]"
     ]
    },
    {
     "name": "stdout",
     "output_type": "stream",
     "text": [
      "{'Model': 'KNeighborsClassifier', 'Accuracy': 0.9, 'Balanced Accuracy': 0.5086069231130524, 'ROC AUC': 0.5086069231130526, 'F1 Score': 0.8626661640909663, 'Time taken': 0.20762228965759277}\n"
     ]
    },
    {
     "name": "stderr",
     "output_type": "stream",
     "text": [
      "\r",
      " 41%|████▏     | 12/29 [00:16<00:31,  1.83s/it]"
     ]
    },
    {
     "name": "stdout",
     "output_type": "stream",
     "text": [
      "{'Model': 'LabelPropagation', 'Accuracy': 0.845, 'Balanced Accuracy': 0.5473791742989996, 'ROC AUC': 0.5473791742989996, 'F1 Score': 0.845367258873609, 'Time taken': 7.1649839878082275}\n"
     ]
    },
    {
     "name": "stderr",
     "output_type": "stream",
     "text": [
      " 48%|████▊     | 14/29 [00:25<00:37,  2.51s/it]"
     ]
    },
    {
     "name": "stdout",
     "output_type": "stream",
     "text": [
      "{'Model': 'LabelSpreading', 'Accuracy': 0.845, 'Balanced Accuracy': 0.5473791742989996, 'ROC AUC': 0.5473791742989996, 'F1 Score': 0.845367258873609, 'Time taken': 8.408612966537476}\n",
      "{'Model': 'LinearDiscriminantAnalysis', 'Accuracy': 0.9075, 'Balanced Accuracy': 0.5127459959607346, 'ROC AUC': 0.5127459959607347, 'F1 Score': 0.8667705785235352, 'Time taken': 0.16219258308410645}\n"
     ]
    },
    {
     "name": "stderr",
     "output_type": "stream",
     "text": [
      " 59%|█████▊    | 17/29 [00:27<00:17,  1.44s/it]"
     ]
    },
    {
     "name": "stdout",
     "output_type": "stream",
     "text": [
      "{'Model': 'LinearSVC', 'Accuracy': 0.9065, 'Balanced Accuracy': 0.5026595744680851, 'ROC AUC': 0.5026595744680851, 'F1 Score': 0.8625386607134179, 'Time taken': 2.0585544109344482}\n",
      "{'Model': 'LogisticRegression', 'Accuracy': 0.9075, 'Balanced Accuracy': 0.510362359682495, 'ROC AUC': 0.510362359682495, 'F1 Score': 0.8658695803067977, 'Time taken': 0.07758140563964844}\n",
      "{'Model': 'NearestCentroid', 'Accuracy': 0.6455, 'Balanced Accuracy': 0.651807101592222, 'ROC AUC': 0.651807101592222, 'F1 Score': 0.7192671135528342, 'Time taken': 0.09158086776733398}\n",
      "NuSVC model failed to execute\n",
      "specified nu is infeasible\n"
     ]
    },
    {
     "name": "stderr",
     "output_type": "stream",
     "text": [
      "\r",
      " 69%|██████▉   | 20/29 [00:27<00:07,  1.28it/s]"
     ]
    },
    {
     "name": "stdout",
     "output_type": "stream",
     "text": [
      "{'Model': 'PassiveAggressiveClassifier', 'Accuracy': 0.862, 'Balanced Accuracy': 0.4971701657977549, 'ROC AUC': 0.4971701657977549, 'F1 Score': 0.844281815478485, 'Time taken': 0.057778120040893555}\n",
      "{'Model': 'Perceptron', 'Accuracy': 0.8365, 'Balanced Accuracy': 0.5117009534545113, 'ROC AUC': 0.5117009534545113, 'F1 Score': 0.8351067882036574, 'Time taken': 0.04336285591125488}\n",
      "{'Model': 'QuadraticDiscriminantAnalysis', 'Accuracy': 0.7155, 'Balanced Accuracy': 0.571256634258607, 'ROC AUC': 0.5712566342586068, 'F1 Score': 0.768377786585814, 'Time taken': 0.08000349998474121}\n"
     ]
    },
    {
     "name": "stderr",
     "output_type": "stream",
     "text": [
      " 83%|████████▎ | 24/29 [00:29<00:02,  1.85it/s]"
     ]
    },
    {
     "name": "stdout",
     "output_type": "stream",
     "text": [
      "{'Model': 'RandomForestClassifier', 'Accuracy': 0.905, 'Balanced Accuracy': 0.49944812362030905, 'ROC AUC': 0.49944812362030905, 'F1 Score': 0.8608188976377953, 'Time taken': 1.2373666763305664}\n",
      "{'Model': 'RidgeClassifier', 'Accuracy': 0.906, 'Balanced Accuracy': 0.5, 'ROC AUC': 0.5, 'F1 Score': 0.8613179433368309, 'Time taken': 0.056729793548583984}\n",
      "{'Model': 'RidgeClassifierCV', 'Accuracy': 0.906, 'Balanced Accuracy': 0.5, 'ROC AUC': 0.5, 'F1 Score': 0.8613179433368309, 'Time taken': 0.11687898635864258}\n"
     ]
    },
    {
     "name": "stderr",
     "output_type": "stream",
     "text": [
      "\r",
      " 86%|████████▌ | 25/29 [00:29<00:01,  2.13it/s]"
     ]
    },
    {
     "name": "stdout",
     "output_type": "stream",
     "text": [
      "{'Model': 'SGDClassifier', 'Accuracy': 0.9035, 'Balanced Accuracy': 0.5010039453290123, 'ROC AUC': 0.5010039453290122, 'F1 Score': 0.8610093062434717, 'Time taken': 0.13434362411499023}\n"
     ]
    },
    {
     "name": "stderr",
     "output_type": "stream",
     "text": [
      "\r",
      " 90%|████████▉ | 26/29 [00:32<00:03,  1.00s/it]"
     ]
    },
    {
     "name": "stdout",
     "output_type": "stream",
     "text": [
      "{'Model': 'SVC', 'Accuracy': 0.906, 'Balanced Accuracy': 0.5, 'ROC AUC': 0.5, 'F1 Score': 0.8613179433368309, 'Time taken': 3.0809333324432373}\n",
      "StackingClassifier model failed to execute\n",
      "__init__() missing 1 required positional argument: 'estimators'\n"
     ]
    },
    {
     "name": "stderr",
     "output_type": "stream",
     "text": [
      "100%|██████████| 29/29 [00:33<00:00,  1.38it/s]"
     ]
    },
    {
     "name": "stdout",
     "output_type": "stream",
     "text": [
      "{'Model': 'XGBClassifier', 'Accuracy': 0.901, 'Balanced Accuracy': 0.5186933446057019, 'ROC AUC': 0.5186933446057019, 'F1 Score': 0.8664263565891474, 'Time taken': 1.2616851329803467}\n",
      "{'Model': 'LGBMClassifier', 'Accuracy': 0.9045, 'Balanced Accuracy': 0.5087067305434221, 'ROC AUC': 0.5087067305434221, 'F1 Score': 0.8642524540619435, 'Time taken': 0.19086313247680664}\n"
     ]
    },
    {
     "name": "stderr",
     "output_type": "stream",
     "text": [
      "100%|██████████| 29/29 [00:33<00:00,  1.16s/it]\n"
     ]
    }
   ],
   "source": [
    "# used smaller subsets of data for quick overview results\n",
    "models, predictions = clf.fit(X_train[:10000], X_test[:2000], y_train[:10000], y_test[:2000])"
   ]
  },
  {
   "cell_type": "markdown",
   "id": "6a532c33",
   "metadata": {},
   "source": [
    "## Balancing Target Classes\n",
    "\n",
    "It is clear from Balanced Accuracy scores of around 0.5 that none of these algorithms are able to overcome the class imbalance of the target features to make accurate predictions. Almost all models are overpredicting values of 0(no delinquency)."
   ]
  },
  {
   "cell_type": "markdown",
   "id": "aa3bdc1e",
   "metadata": {},
   "source": [
    "### Undersampling"
   ]
  },
  {
   "cell_type": "code",
   "execution_count": 10,
   "id": "89e569be",
   "metadata": {},
   "outputs": [],
   "source": [
    "delinquent = df[df['Delinquent'] == 1]\n",
    "non_delinquent = df[df['Delinquent'] == 0].sample(n = len(delinquent))\n",
    "undersample = pd.concat([delinquent, non_delinquent])\n",
    "\n",
    "undersample_features = scaler.fit_transform(undersample.drop('Delinquent', axis = 1))\n",
    "X = undersample_features\n",
    "y = undersample['Delinquent'].values\n",
    "X_train, X_test, y_train, y_test = train_test_split(X, y, test_size = 0.2)"
   ]
  },
  {
   "cell_type": "code",
   "execution_count": 11,
   "id": "241a76d3",
   "metadata": {},
   "outputs": [],
   "source": [
    "clf = LazyClassifier(verbose = 2,ignore_warnings = False, custom_metric = None)"
   ]
  },
  {
   "cell_type": "code",
   "execution_count": 12,
   "id": "0694c338",
   "metadata": {},
   "outputs": [
    {
     "name": "stderr",
     "output_type": "stream",
     "text": [
      "  3%|▎         | 1/29 [00:00<00:16,  1.66it/s]"
     ]
    },
    {
     "name": "stdout",
     "output_type": "stream",
     "text": [
      "{'Model': 'AdaBoostClassifier', 'Accuracy': 0.6535, 'Balanced Accuracy': 0.6538985256939751, 'ROC AUC': 0.653898525693975, 'F1 Score': 0.653593654010743, 'Time taken': 0.6006007194519043}\n"
     ]
    },
    {
     "name": "stderr",
     "output_type": "stream",
     "text": [
      "\r",
      "  7%|▋         | 2/29 [00:01<00:16,  1.60it/s]"
     ]
    },
    {
     "name": "stdout",
     "output_type": "stream",
     "text": [
      "{'Model': 'BaggingClassifier', 'Accuracy': 0.591, 'Balanced Accuracy': 0.5887462141122876, 'ROC AUC': 0.5887462141122876, 'F1 Score': 0.5892490997456623, 'Time taken': 0.6453878879547119}\n",
      "{'Model': 'BernoulliNB', 'Accuracy': 0.6125, 'Balanced Accuracy': 0.6134089259342694, 'ROC AUC': 0.6134089259342695, 'F1 Score': 0.6124311204801898, 'Time taken': 0.047092437744140625}\n"
     ]
    },
    {
     "name": "stderr",
     "output_type": "stream",
     "text": [
      " 21%|██        | 6/29 [00:07<00:26,  1.17s/it]"
     ]
    },
    {
     "name": "stdout",
     "output_type": "stream",
     "text": [
      "{'Model': 'CalibratedClassifierCV', 'Accuracy': 0.649, 'Balanced Accuracy': 0.6489549698380517, 'ROC AUC': 0.6489549698380517, 'F1 Score': 0.6490927174052253, 'Time taken': 6.074893951416016}\n",
      "CategoricalNB model failed to execute\n",
      "Negative values in data passed to CategoricalNB (input X)\n",
      "{'Model': 'DecisionTreeClassifier', 'Accuracy': 0.5405, 'Balanced Accuracy': 0.5407949738429576, 'ROC AUC': 0.5407949738429576, 'F1 Score': 0.5406182194086898, 'Time taken': 0.10046720504760742}\n",
      "{'Model': 'DummyClassifier', 'Accuracy': 0.4825, 'Balanced Accuracy': 0.5, 'ROC AUC': 0.5, 'F1 Score': 0.3140725126475548, 'Time taken': 0.03000640869140625}\n",
      "{'Model': 'ExtraTreeClassifier', 'Accuracy': 0.549, 'Balanced Accuracy': 0.5492177917949488, 'ROC AUC': 0.5492177917949488, 'F1 Score': 0.5491290078023185, 'Time taken': 0.0394132137298584}\n"
     ]
    },
    {
     "name": "stderr",
     "output_type": "stream",
     "text": [
      " 38%|███▊      | 11/29 [00:09<00:10,  1.70it/s]"
     ]
    },
    {
     "name": "stdout",
     "output_type": "stream",
     "text": [
      "{'Model': 'ExtraTreesClassifier', 'Accuracy': 0.622, 'Balanced Accuracy': 0.6219218542714826, 'ROC AUC': 0.6219218542714825, 'F1 Score': 0.6220998495133196, 'Time taken': 1.3502740859985352}\n",
      "{'Model': 'GaussianNB', 'Accuracy': 0.54, 'Balanced Accuracy': 0.5256639383244475, 'ROC AUC': 0.5256639383244475, 'F1 Score': 0.4452738438032556, 'Time taken': 0.031620025634765625}\n",
      "{'Model': 'KNeighborsClassifier', 'Accuracy': 0.569, 'Balanced Accuracy': 0.5693124076994318, 'ROC AUC': 0.5693124076994318, 'F1 Score': 0.5691137977695301, 'Time taken': 0.17728328704833984}\n"
     ]
    },
    {
     "name": "stderr",
     "output_type": "stream",
     "text": [
      "\r",
      " 41%|████▏     | 12/29 [00:15<00:29,  1.72s/it]"
     ]
    },
    {
     "name": "stdout",
     "output_type": "stream",
     "text": [
      "{'Model': 'LabelPropagation', 'Accuracy': 0.53, 'Balanced Accuracy': 0.5297739731170684, 'ROC AUC': 0.5297739731170684, 'F1 Score': 0.5301175734834271, 'Time taken': 6.610023498535156}\n"
     ]
    },
    {
     "name": "stderr",
     "output_type": "stream",
     "text": [
      " 48%|████▊     | 14/29 [00:23<00:33,  2.24s/it]"
     ]
    },
    {
     "name": "stdout",
     "output_type": "stream",
     "text": [
      "{'Model': 'LabelSpreading', 'Accuracy': 0.528, 'Balanced Accuracy': 0.5277364771845511, 'ROC AUC': 0.5277364771845512, 'F1 Score': 0.5281105227133541, 'Time taken': 7.178976774215698}\n",
      "{'Model': 'LinearDiscriminantAnalysis', 'Accuracy': 0.6485, 'Balanced Accuracy': 0.6482616204850942, 'ROC AUC': 0.6482616204850943, 'F1 Score': 0.648557080549348, 'Time taken': 0.1434943675994873}\n"
     ]
    },
    {
     "name": "stderr",
     "output_type": "stream",
     "text": [
      " 59%|█████▊    | 17/29 [00:25<00:15,  1.28s/it]"
     ]
    },
    {
     "name": "stdout",
     "output_type": "stream",
     "text": [
      "{'Model': 'LinearSVC', 'Accuracy': 0.6455, 'Balanced Accuracy': 0.6452579409776977, 'ROC AUC': 0.6452579409776976, 'F1 Score': 0.6455575677233112, 'Time taken': 1.8632218837738037}\n",
      "{'Model': 'LogisticRegression', 'Accuracy': 0.6455, 'Balanced Accuracy': 0.6453981126880428, 'ROC AUC': 0.6453981126880428, 'F1 Score': 0.6455859335032605, 'Time taken': 0.0509493350982666}\n",
      "{'Model': 'NearestCentroid', 'Accuracy': 0.6225, 'Balanced Accuracy': 0.6230707616830617, 'ROC AUC': 0.6230707616830619, 'F1 Score': 0.6225612512278497, 'Time taken': 0.07728457450866699}\n"
     ]
    },
    {
     "name": "stderr",
     "output_type": "stream",
     "text": [
      " 69%|██████▉   | 20/29 [00:34<00:17,  1.92s/it]"
     ]
    },
    {
     "name": "stdout",
     "output_type": "stream",
     "text": [
      "{'Model': 'NuSVC', 'Accuracy': 0.5825, 'Balanced Accuracy': 0.5835473454982354, 'ROC AUC': 0.5835473454982354, 'F1 Score': 0.5823234859446066, 'Time taken': 9.389828205108643}\n",
      "{'Model': 'PassiveAggressiveClassifier', 'Accuracy': 0.545, 'Balanced Accuracy': 0.5439863833195665, 'ROC AUC': 0.5439863833195665, 'F1 Score': 0.544715424337674, 'Time taken': 0.05870318412780762}\n",
      "{'Model': 'Perceptron', 'Accuracy': 0.5845, 'Balanced Accuracy': 0.5842181672548872, 'ROC AUC': 0.5842181672548873, 'F1 Score': 0.5845770339458225, 'Time taken': 0.042452335357666016}\n",
      "{'Model': 'QuadraticDiscriminantAnalysis', 'Accuracy': 0.5175, 'Balanced Accuracy': 0.500245300493104, 'ROC AUC': 0.500245300493104, 'F1 Score': 0.3590945353921933, 'Time taken': 0.06578874588012695}\n"
     ]
    },
    {
     "name": "stderr",
     "output_type": "stream",
     "text": [
      " 83%|████████▎ | 24/29 [00:36<00:05,  1.01s/it]"
     ]
    },
    {
     "name": "stdout",
     "output_type": "stream",
     "text": [
      "{'Model': 'RandomForestClassifier', 'Accuracy': 0.6245, 'Balanced Accuracy': 0.6245826137017847, 'ROC AUC': 0.6245826137017847, 'F1 Score': 0.6246135380478427, 'Time taken': 1.4096121788024902}\n",
      "{'Model': 'RidgeClassifier', 'Accuracy': 0.6485, 'Balanced Accuracy': 0.6482616204850942, 'ROC AUC': 0.6482616204850943, 'F1 Score': 0.648557080549348, 'Time taken': 0.045708656311035156}\n",
      "{'Model': 'RidgeClassifierCV', 'Accuracy': 0.6485, 'Balanced Accuracy': 0.6482616204850942, 'ROC AUC': 0.6482616204850943, 'F1 Score': 0.648557080549348, 'Time taken': 0.07962393760681152}\n"
     ]
    },
    {
     "name": "stderr",
     "output_type": "stream",
     "text": [
      "\r",
      " 86%|████████▌ | 25/29 [00:36<00:03,  1.17it/s]"
     ]
    },
    {
     "name": "stdout",
     "output_type": "stream",
     "text": [
      "{'Model': 'SGDClassifier', 'Accuracy': 0.6035, 'Balanced Accuracy': 0.6031363420189733, 'ROC AUC': 0.6031363420189733, 'F1 Score': 0.6035437575434223, 'Time taken': 0.23702359199523926}\n"
     ]
    },
    {
     "name": "stderr",
     "output_type": "stream",
     "text": [
      "\r",
      " 90%|████████▉ | 26/29 [00:41<00:05,  1.86s/it]"
     ]
    },
    {
     "name": "stdout",
     "output_type": "stream",
     "text": [
      "{'Model': 'SVC', 'Accuracy': 0.634, 'Balanced Accuracy': 0.6336562288803784, 'ROC AUC': 0.6336562288803785, 'F1 Score': 0.6340351720161446, 'Time taken': 5.472633123397827}\n",
      "StackingClassifier model failed to execute\n",
      "__init__() missing 1 required positional argument: 'estimators'\n"
     ]
    },
    {
     "name": "stderr",
     "output_type": "stream",
     "text": [
      "100%|██████████| 29/29 [00:42<00:00,  1.02s/it]"
     ]
    },
    {
     "name": "stdout",
     "output_type": "stream",
     "text": [
      "{'Model': 'XGBClassifier', 'Accuracy': 0.6245, 'Balanced Accuracy': 0.6248980000500612, 'ROC AUC': 0.6248980000500614, 'F1 Score': 0.6245966080260348, 'Time taken': 0.5247461795806885}\n",
      "{'Model': 'LGBMClassifier', 'Accuracy': 0.636, 'Balanced Accuracy': 0.6362193687266902, 'ROC AUC': 0.6362193687266902, 'F1 Score': 0.6361106843351897, 'Time taken': 0.19700932502746582}\n"
     ]
    },
    {
     "name": "stderr",
     "output_type": "stream",
     "text": [
      "100%|██████████| 29/29 [00:42<00:00,  1.47s/it]\n"
     ]
    }
   ],
   "source": [
    "# used smaller subsets of data for quick overview results\n",
    "models, predictions = clf.fit(X_train[:10000], X_test[:2000], y_train[:10000], y_test[:2000])"
   ]
  },
  {
   "cell_type": "markdown",
   "id": "e66710c4",
   "metadata": {},
   "source": [
    "We see from the drastic drops in various metric scores that models across the board are underfitting."
   ]
  },
  {
   "cell_type": "markdown",
   "id": "7cf7625e",
   "metadata": {},
   "source": [
    "### Oversampling - SMOTE"
   ]
  },
  {
   "cell_type": "code",
   "execution_count": 13,
   "id": "f223015d",
   "metadata": {},
   "outputs": [
    {
     "name": "stdout",
     "output_type": "stream",
     "text": [
      "BEFORE: Counter({0: 180052, 1: 19948})\n",
      "AFTER: Counter({0: 180052, 1: 180052})\n"
     ]
    }
   ],
   "source": [
    "# Oversampling Minority Class with SMOTE\n",
    "\n",
    "X = scaled_features\n",
    "y = df['Delinquent'].values\n",
    "oversample = SMOTE()\n",
    "print(\"BEFORE:\", Counter(y))\n",
    "X, y = oversample.fit_resample(X, y)\n",
    "print(\"AFTER:\", Counter(y))\n",
    "X_train, X_test, y_train, y_test = train_test_split(X, y, test_size = 0.2)"
   ]
  },
  {
   "cell_type": "markdown",
   "id": "169841ef",
   "metadata": {},
   "source": [
    "#### Benchmark - Logistic Regression"
   ]
  },
  {
   "cell_type": "code",
   "execution_count": 14,
   "id": "0a453ecc",
   "metadata": {
    "scrolled": true
   },
   "outputs": [
    {
     "name": "stdout",
     "output_type": "stream",
     "text": [
      "[[23834 12145]\n",
      " [12301 23741]]\n",
      "              precision    recall  f1-score   support\n",
      "\n",
      "           0       0.66      0.66      0.66     35979\n",
      "           1       0.66      0.66      0.66     36042\n",
      "\n",
      "    accuracy                           0.66     72021\n",
      "   macro avg       0.66      0.66      0.66     72021\n",
      "weighted avg       0.66      0.66      0.66     72021\n",
      "\n"
     ]
    }
   ],
   "source": [
    "reg = LogisticRegression(max_iter = 5000)\n",
    "reg.fit(X_train, y_train)\n",
    "y_pred = reg.predict(X_test)\n",
    "y_pred_labels = (y_pred > 0.5).astype(int)\n",
    "print(confusion_matrix(y_test, y_pred_labels))\n",
    "print(classification_report(y_test, y_pred_labels))"
   ]
  },
  {
   "cell_type": "markdown",
   "id": "6ca6fab6",
   "metadata": {},
   "source": [
    "#### LGBM"
   ]
  },
  {
   "cell_type": "code",
   "execution_count": 15,
   "id": "b6c5fb77",
   "metadata": {},
   "outputs": [],
   "source": [
    "train_data = lgb.Dataset(X_train, label = y_train)\n",
    "params = {\n",
    "    'objective': 'binary',\n",
    "    'metric': 'auc',\n",
    "}"
   ]
  },
  {
   "cell_type": "code",
   "execution_count": 16,
   "id": "e517b35f",
   "metadata": {},
   "outputs": [
    {
     "name": "stdout",
     "output_type": "stream",
     "text": [
      "[LightGBM] [Info] Number of positive: 115208, number of negative: 115258\n",
      "[LightGBM] [Warning] Auto-choosing row-wise multi-threading, the overhead of testing was 0.010122 seconds.\n",
      "You can set `force_row_wise=true` to remove the overhead.\n",
      "And if memory is not enough, you can set `force_col_wise=true`.\n",
      "[LightGBM] [Info] Total Bins 6790\n",
      "[LightGBM] [Info] Number of data points in the train set: 230466, number of used features: 76\n",
      "[LightGBM] [Info] Number of positive: 115208, number of negative: 115258\n",
      "[LightGBM] [Warning] Auto-choosing row-wise multi-threading, the overhead of testing was 0.014692 seconds.\n",
      "You can set `force_row_wise=true` to remove the overhead.\n",
      "And if memory is not enough, you can set `force_col_wise=true`.\n",
      "[LightGBM] [Info] Total Bins 6790\n",
      "[LightGBM] [Info] Number of data points in the train set: 230466, number of used features: 76\n",
      "[LightGBM] [Info] Number of positive: 115208, number of negative: 115258\n",
      "[LightGBM] [Warning] Auto-choosing row-wise multi-threading, the overhead of testing was 0.015743 seconds.\n",
      "You can set `force_row_wise=true` to remove the overhead.\n",
      "And if memory is not enough, you can set `force_col_wise=true`.\n",
      "[LightGBM] [Info] Total Bins 6790\n",
      "[LightGBM] [Info] Number of data points in the train set: 230466, number of used features: 76\n",
      "[LightGBM] [Info] Number of positive: 115208, number of negative: 115259\n",
      "[LightGBM] [Warning] Auto-choosing row-wise multi-threading, the overhead of testing was 0.010012 seconds.\n",
      "You can set `force_row_wise=true` to remove the overhead.\n",
      "And if memory is not enough, you can set `force_col_wise=true`.\n",
      "[LightGBM] [Info] Total Bins 6790\n",
      "[LightGBM] [Info] Number of data points in the train set: 230467, number of used features: 76\n",
      "[LightGBM] [Info] Number of positive: 115208, number of negative: 115259\n",
      "[LightGBM] [Warning] Auto-choosing col-wise multi-threading, the overhead of testing was 0.037484 seconds.\n",
      "You can set `force_col_wise=true` to remove the overhead.\n",
      "[LightGBM] [Info] Total Bins 6790\n",
      "[LightGBM] [Info] Number of data points in the train set: 230467, number of used features: 76\n",
      "[LightGBM] [Info] [binary:BoostFromScore]: pavg=0.499892 -> initscore=-0.000434\n",
      "[LightGBM] [Info] Start training from score -0.000434\n",
      "[LightGBM] [Info] [binary:BoostFromScore]: pavg=0.499892 -> initscore=-0.000434\n",
      "[LightGBM] [Info] Start training from score -0.000434\n",
      "[LightGBM] [Info] [binary:BoostFromScore]: pavg=0.499892 -> initscore=-0.000434\n",
      "[LightGBM] [Info] Start training from score -0.000434\n",
      "[LightGBM] [Info] [binary:BoostFromScore]: pavg=0.499889 -> initscore=-0.000443\n",
      "[LightGBM] [Info] Start training from score -0.000443\n",
      "[LightGBM] [Info] [binary:BoostFromScore]: pavg=0.499889 -> initscore=-0.000443\n",
      "[LightGBM] [Info] Start training from score -0.000443\n"
     ]
    },
    {
     "data": {
      "text/plain": [
       "{'auc-mean': [0.8373476488997937,\n",
       "  0.8755962078011145,\n",
       "  0.8944261755380538,\n",
       "  0.9072412145298794,\n",
       "  0.9125560359841316,\n",
       "  0.9158633981355455,\n",
       "  0.9194806726460435,\n",
       "  0.9224588266580372,\n",
       "  0.926066881273235,\n",
       "  0.9287843000501897,\n",
       "  0.9303667816804264,\n",
       "  0.9324364682396163,\n",
       "  0.9346563005303313,\n",
       "  0.9366571479980917,\n",
       "  0.9390034518211227,\n",
       "  0.9402542520809785,\n",
       "  0.9429878333531075,\n",
       "  0.9455662609086921,\n",
       "  0.9472969419647626,\n",
       "  0.9500145195653372,\n",
       "  0.9520688264914348,\n",
       "  0.9533098482134704,\n",
       "  0.9542881556934033,\n",
       "  0.9554432127569905,\n",
       "  0.9563346359091602,\n",
       "  0.9573950620899782,\n",
       "  0.9578255010723924,\n",
       "  0.9586235286896843,\n",
       "  0.9591427012588077,\n",
       "  0.9599035482728822,\n",
       "  0.9605478086928402,\n",
       "  0.9607973457002192,\n",
       "  0.9611568354284543,\n",
       "  0.9614296908916191,\n",
       "  0.9617876503673916,\n",
       "  0.962040207221175,\n",
       "  0.9622515328148153,\n",
       "  0.9624730963182948,\n",
       "  0.9626332933854739,\n",
       "  0.9628470712344935,\n",
       "  0.9630573169006971,\n",
       "  0.9631833694825873,\n",
       "  0.9633612442976999,\n",
       "  0.9635348166655865,\n",
       "  0.9636871372659609,\n",
       "  0.963806301965193,\n",
       "  0.963934409276183,\n",
       "  0.9640768717635995,\n",
       "  0.9641443737736438,\n",
       "  0.9642423054156763,\n",
       "  0.9643478398794756,\n",
       "  0.9644712741382817,\n",
       "  0.9645348314837232,\n",
       "  0.9646044008122054,\n",
       "  0.9646560690522156,\n",
       "  0.9647799913699056,\n",
       "  0.9648351779947546,\n",
       "  0.9648994016765778,\n",
       "  0.9649574276020338,\n",
       "  0.9650236174234145,\n",
       "  0.9651014098055246,\n",
       "  0.9651471746649307,\n",
       "  0.9651990330355382,\n",
       "  0.9652341521466529,\n",
       "  0.9652779507906745,\n",
       "  0.9653269574765547,\n",
       "  0.9653685797431246,\n",
       "  0.9654215401661549,\n",
       "  0.9654507571091603,\n",
       "  0.9654935532246768,\n",
       "  0.9655236058916795,\n",
       "  0.9655679715215054,\n",
       "  0.9656106154585391,\n",
       "  0.9656439443262158,\n",
       "  0.9656634524101289,\n",
       "  0.9657055146406256,\n",
       "  0.9657261659843128,\n",
       "  0.9657485047078966,\n",
       "  0.9657971850839328,\n",
       "  0.9658130291143617,\n",
       "  0.965838165680068,\n",
       "  0.9658618471917414,\n",
       "  0.9659065999865263,\n",
       "  0.9659308785402161,\n",
       "  0.9659545927317558,\n",
       "  0.9659697256921396,\n",
       "  0.9659991272344696,\n",
       "  0.9660251293466269,\n",
       "  0.966058726664167,\n",
       "  0.9660717649172458,\n",
       "  0.9661030705637403,\n",
       "  0.9661157775662785,\n",
       "  0.9661420158452783,\n",
       "  0.9661560992164903,\n",
       "  0.9661723384258056,\n",
       "  0.9661852699937759,\n",
       "  0.9662011068790803,\n",
       "  0.9662188909769028,\n",
       "  0.966233084950226,\n",
       "  0.9662562218791783],\n",
       " 'auc-stdv': [0.0035948089531362133,\n",
       "  0.005010812449550816,\n",
       "  0.008064060491846868,\n",
       "  0.006606528345527372,\n",
       "  0.0062981865462953075,\n",
       "  0.0076776022586328456,\n",
       "  0.005954992133970114,\n",
       "  0.004324837410178407,\n",
       "  0.004208915995179326,\n",
       "  0.0036149375407210603,\n",
       "  0.003357772976403589,\n",
       "  0.0029019441831838045,\n",
       "  0.0021178806440132108,\n",
       "  0.0022481926118848757,\n",
       "  0.0018028697515066012,\n",
       "  0.0015462981431961155,\n",
       "  0.000647030651728175,\n",
       "  0.0014043241178197828,\n",
       "  0.0010996217283631689,\n",
       "  0.0011080161007191614,\n",
       "  0.0011360579592899287,\n",
       "  0.0009770781138279938,\n",
       "  0.0006199165269055058,\n",
       "  0.0008466367347163097,\n",
       "  0.0007436585746051452,\n",
       "  0.0008903887933226057,\n",
       "  0.0008371997792522313,\n",
       "  0.0008060899426324259,\n",
       "  0.0008285225131357311,\n",
       "  0.0007576198649729091,\n",
       "  0.0008218273809316789,\n",
       "  0.0008763273702794782,\n",
       "  0.0008098119583415142,\n",
       "  0.0008873252343313852,\n",
       "  0.000738840154913458,\n",
       "  0.0007101868048990737,\n",
       "  0.0007880501974804218,\n",
       "  0.0007732257624753736,\n",
       "  0.0007764966730185353,\n",
       "  0.000762601607243822,\n",
       "  0.000779331928605951,\n",
       "  0.0007709971790591799,\n",
       "  0.0007496182382838068,\n",
       "  0.0007107050362727158,\n",
       "  0.0007046564155413311,\n",
       "  0.0006956374835425897,\n",
       "  0.000713536618149579,\n",
       "  0.0007632155645802207,\n",
       "  0.0007534049803023245,\n",
       "  0.0007464947583525822,\n",
       "  0.000753001824625621,\n",
       "  0.0007628426605837216,\n",
       "  0.0007919066618400603,\n",
       "  0.0007870764490249622,\n",
       "  0.0008247374177814756,\n",
       "  0.000833296138550248,\n",
       "  0.0008263706986427,\n",
       "  0.0008383212209890622,\n",
       "  0.0008320689367243298,\n",
       "  0.0008189689821687324,\n",
       "  0.0008116119362725799,\n",
       "  0.0008118312861394425,\n",
       "  0.0008249949852640405,\n",
       "  0.0008186125323738701,\n",
       "  0.0007906664104855741,\n",
       "  0.0007993447807205404,\n",
       "  0.0008054906520259932,\n",
       "  0.0007886311618756809,\n",
       "  0.0007926352808730179,\n",
       "  0.0007991825098868856,\n",
       "  0.0007982536396550539,\n",
       "  0.0008128333047263001,\n",
       "  0.0008101627334565609,\n",
       "  0.0008129552654812882,\n",
       "  0.0008007449064826226,\n",
       "  0.0007964799733597397,\n",
       "  0.0008020385942861109,\n",
       "  0.0008001780807534561,\n",
       "  0.0007976809195168408,\n",
       "  0.0007935985223769994,\n",
       "  0.0008020187111983391,\n",
       "  0.0008000669228548582,\n",
       "  0.0007891906791008612,\n",
       "  0.0007955982461784182,\n",
       "  0.0007984053558186068,\n",
       "  0.0007924056368481575,\n",
       "  0.0007891240974909705,\n",
       "  0.0007839167245228988,\n",
       "  0.0007708801383621463,\n",
       "  0.000770468299554807,\n",
       "  0.0007725799481164406,\n",
       "  0.0007793698947542948,\n",
       "  0.0007750647485973314,\n",
       "  0.0007821777216752479,\n",
       "  0.0007743143696307977,\n",
       "  0.0007787423867359353,\n",
       "  0.0007635912287170108,\n",
       "  0.0007648933736156751,\n",
       "  0.0007672571906621669,\n",
       "  0.0007543528093570497]}"
      ]
     },
     "execution_count": 16,
     "metadata": {},
     "output_type": "execute_result"
    }
   ],
   "source": [
    "cv_results = lgb.cv(params, train_data, num_boost_round = 100, nfold = 5, stratified = True, seed = 42)\n",
    "cv_results"
   ]
  },
  {
   "cell_type": "markdown",
   "id": "a45f7a5a",
   "metadata": {},
   "source": [
    "### Fine Tuning LGBM With Grid Search"
   ]
  },
  {
   "cell_type": "code",
   "execution_count": 17,
   "id": "a78848d3",
   "metadata": {},
   "outputs": [],
   "source": [
    "train_data = lgb.Dataset(X_train, label = y_train)\n",
    "param_grid = {\n",
    "    'boosting_type': ['gbdt', 'dart', 'goss'],\n",
    "    'num_leaves': [10, 20, 30],\n",
    "    'max_depth': [8, 16],\n",
    "    'learning_rate': [0.01, 0.1, 0.5],\n",
    "    'n_estimators': [50, 100, 200],\n",
    "    'subsample': [0.8, 1.0],\n",
    "    'colsample_bytree': [0.8, 1.0],\n",
    "    'reg_alpha': [0.0, 0.1, 0.5],\n",
    "    'reg_lambda': [0.0, 0.1, 0.5],\n",
    "    'min_split_gain': [0.0, 0.1, 0.5],\n",
    "    'min_child_weight': [0.001, 0.01, 0.1],\n",
    "    'is_unbalance': [False, True],\n",
    "    'metric': ['binary_logloss', 'auc'],\n",
    "    'verbosity': [-1]\n",
    "}"
   ]
  },
  {
   "cell_type": "code",
   "execution_count": 18,
   "id": "23215b73",
   "metadata": {
    "scrolled": true
   },
   "outputs": [
    {
     "name": "stdout",
     "output_type": "stream",
     "text": [
      "Fitting 5 folds for each of 30 candidates, totalling 150 fits\n",
      "[CV] END boosting_type=goss, colsample_bytree=0.8, is_unbalance=True, learning_rate=0.01, max_depth=8, metric=auc, min_child_weight=0.01, min_split_gain=0.0, n_estimators=50, num_leaves=10, reg_alpha=0.0, reg_lambda=0.1, subsample=0.8, verbosity=-1; total time=   0.6s\n",
      "[CV] END boosting_type=goss, colsample_bytree=0.8, is_unbalance=True, learning_rate=0.01, max_depth=8, metric=auc, min_child_weight=0.01, min_split_gain=0.0, n_estimators=50, num_leaves=10, reg_alpha=0.0, reg_lambda=0.1, subsample=0.8, verbosity=-1; total time=   0.5s\n",
      "[CV] END boosting_type=goss, colsample_bytree=0.8, is_unbalance=True, learning_rate=0.01, max_depth=8, metric=auc, min_child_weight=0.01, min_split_gain=0.0, n_estimators=50, num_leaves=10, reg_alpha=0.0, reg_lambda=0.1, subsample=0.8, verbosity=-1; total time=   0.4s\n",
      "[CV] END boosting_type=goss, colsample_bytree=0.8, is_unbalance=True, learning_rate=0.01, max_depth=8, metric=auc, min_child_weight=0.01, min_split_gain=0.0, n_estimators=50, num_leaves=10, reg_alpha=0.0, reg_lambda=0.1, subsample=0.8, verbosity=-1; total time=   0.5s\n",
      "[CV] END boosting_type=goss, colsample_bytree=0.8, is_unbalance=True, learning_rate=0.01, max_depth=8, metric=auc, min_child_weight=0.01, min_split_gain=0.0, n_estimators=50, num_leaves=10, reg_alpha=0.0, reg_lambda=0.1, subsample=0.8, verbosity=-1; total time=   0.5s\n",
      "[CV] END boosting_type=goss, colsample_bytree=1.0, is_unbalance=True, learning_rate=0.01, max_depth=8, metric=auc, min_child_weight=0.01, min_split_gain=0.1, n_estimators=100, num_leaves=10, reg_alpha=0.5, reg_lambda=0.5, subsample=0.8, verbosity=-1; total time=   0.7s\n",
      "[CV] END boosting_type=goss, colsample_bytree=1.0, is_unbalance=True, learning_rate=0.01, max_depth=8, metric=auc, min_child_weight=0.01, min_split_gain=0.1, n_estimators=100, num_leaves=10, reg_alpha=0.5, reg_lambda=0.5, subsample=0.8, verbosity=-1; total time=   0.6s\n",
      "[CV] END boosting_type=goss, colsample_bytree=1.0, is_unbalance=True, learning_rate=0.01, max_depth=8, metric=auc, min_child_weight=0.01, min_split_gain=0.1, n_estimators=100, num_leaves=10, reg_alpha=0.5, reg_lambda=0.5, subsample=0.8, verbosity=-1; total time=   0.8s\n",
      "[CV] END boosting_type=goss, colsample_bytree=1.0, is_unbalance=True, learning_rate=0.01, max_depth=8, metric=auc, min_child_weight=0.01, min_split_gain=0.1, n_estimators=100, num_leaves=10, reg_alpha=0.5, reg_lambda=0.5, subsample=0.8, verbosity=-1; total time=   0.6s\n",
      "[CV] END boosting_type=goss, colsample_bytree=1.0, is_unbalance=True, learning_rate=0.01, max_depth=8, metric=auc, min_child_weight=0.01, min_split_gain=0.1, n_estimators=100, num_leaves=10, reg_alpha=0.5, reg_lambda=0.5, subsample=0.8, verbosity=-1; total time=   0.7s\n",
      "[CV] END boosting_type=goss, colsample_bytree=1.0, is_unbalance=False, learning_rate=0.01, max_depth=8, metric=auc, min_child_weight=0.01, min_split_gain=0.1, n_estimators=50, num_leaves=30, reg_alpha=0.5, reg_lambda=0.1, subsample=1.0, verbosity=-1; total time=   0.6s\n",
      "[CV] END boosting_type=goss, colsample_bytree=1.0, is_unbalance=False, learning_rate=0.01, max_depth=8, metric=auc, min_child_weight=0.01, min_split_gain=0.1, n_estimators=50, num_leaves=30, reg_alpha=0.5, reg_lambda=0.1, subsample=1.0, verbosity=-1; total time=   0.7s\n",
      "[CV] END boosting_type=goss, colsample_bytree=1.0, is_unbalance=False, learning_rate=0.01, max_depth=8, metric=auc, min_child_weight=0.01, min_split_gain=0.1, n_estimators=50, num_leaves=30, reg_alpha=0.5, reg_lambda=0.1, subsample=1.0, verbosity=-1; total time=   0.7s\n",
      "[CV] END boosting_type=goss, colsample_bytree=1.0, is_unbalance=False, learning_rate=0.01, max_depth=8, metric=auc, min_child_weight=0.01, min_split_gain=0.1, n_estimators=50, num_leaves=30, reg_alpha=0.5, reg_lambda=0.1, subsample=1.0, verbosity=-1; total time=   0.8s\n",
      "[CV] END boosting_type=goss, colsample_bytree=1.0, is_unbalance=False, learning_rate=0.01, max_depth=8, metric=auc, min_child_weight=0.01, min_split_gain=0.1, n_estimators=50, num_leaves=30, reg_alpha=0.5, reg_lambda=0.1, subsample=1.0, verbosity=-1; total time=   0.7s\n",
      "[CV] END boosting_type=gbdt, colsample_bytree=0.8, is_unbalance=False, learning_rate=0.01, max_depth=8, metric=auc, min_child_weight=0.1, min_split_gain=0.1, n_estimators=200, num_leaves=20, reg_alpha=0.5, reg_lambda=0.1, subsample=0.8, verbosity=-1; total time=   2.1s\n",
      "[CV] END boosting_type=gbdt, colsample_bytree=0.8, is_unbalance=False, learning_rate=0.01, max_depth=8, metric=auc, min_child_weight=0.1, min_split_gain=0.1, n_estimators=200, num_leaves=20, reg_alpha=0.5, reg_lambda=0.1, subsample=0.8, verbosity=-1; total time=   1.8s\n",
      "[CV] END boosting_type=gbdt, colsample_bytree=0.8, is_unbalance=False, learning_rate=0.01, max_depth=8, metric=auc, min_child_weight=0.1, min_split_gain=0.1, n_estimators=200, num_leaves=20, reg_alpha=0.5, reg_lambda=0.1, subsample=0.8, verbosity=-1; total time=   1.4s\n",
      "[CV] END boosting_type=gbdt, colsample_bytree=0.8, is_unbalance=False, learning_rate=0.01, max_depth=8, metric=auc, min_child_weight=0.1, min_split_gain=0.1, n_estimators=200, num_leaves=20, reg_alpha=0.5, reg_lambda=0.1, subsample=0.8, verbosity=-1; total time=   1.3s\n",
      "[CV] END boosting_type=gbdt, colsample_bytree=0.8, is_unbalance=False, learning_rate=0.01, max_depth=8, metric=auc, min_child_weight=0.1, min_split_gain=0.1, n_estimators=200, num_leaves=20, reg_alpha=0.5, reg_lambda=0.1, subsample=0.8, verbosity=-1; total time=   1.2s\n",
      "[CV] END boosting_type=gbdt, colsample_bytree=1.0, is_unbalance=False, learning_rate=0.1, max_depth=8, metric=auc, min_child_weight=0.001, min_split_gain=0.1, n_estimators=200, num_leaves=10, reg_alpha=0.1, reg_lambda=0.0, subsample=0.8, verbosity=-1; total time=   0.9s\n",
      "[CV] END boosting_type=gbdt, colsample_bytree=1.0, is_unbalance=False, learning_rate=0.1, max_depth=8, metric=auc, min_child_weight=0.001, min_split_gain=0.1, n_estimators=200, num_leaves=10, reg_alpha=0.1, reg_lambda=0.0, subsample=0.8, verbosity=-1; total time=   1.0s\n",
      "[CV] END boosting_type=gbdt, colsample_bytree=1.0, is_unbalance=False, learning_rate=0.1, max_depth=8, metric=auc, min_child_weight=0.001, min_split_gain=0.1, n_estimators=200, num_leaves=10, reg_alpha=0.1, reg_lambda=0.0, subsample=0.8, verbosity=-1; total time=   1.0s\n",
      "[CV] END boosting_type=gbdt, colsample_bytree=1.0, is_unbalance=False, learning_rate=0.1, max_depth=8, metric=auc, min_child_weight=0.001, min_split_gain=0.1, n_estimators=200, num_leaves=10, reg_alpha=0.1, reg_lambda=0.0, subsample=0.8, verbosity=-1; total time=   0.9s\n",
      "[CV] END boosting_type=gbdt, colsample_bytree=1.0, is_unbalance=False, learning_rate=0.1, max_depth=8, metric=auc, min_child_weight=0.001, min_split_gain=0.1, n_estimators=200, num_leaves=10, reg_alpha=0.1, reg_lambda=0.0, subsample=0.8, verbosity=-1; total time=   1.2s\n",
      "[CV] END boosting_type=gbdt, colsample_bytree=1.0, is_unbalance=True, learning_rate=0.01, max_depth=8, metric=auc, min_child_weight=0.1, min_split_gain=0.0, n_estimators=50, num_leaves=20, reg_alpha=0.5, reg_lambda=0.5, subsample=0.8, verbosity=-1; total time=   0.6s\n",
      "[CV] END boosting_type=gbdt, colsample_bytree=1.0, is_unbalance=True, learning_rate=0.01, max_depth=8, metric=auc, min_child_weight=0.1, min_split_gain=0.0, n_estimators=50, num_leaves=20, reg_alpha=0.5, reg_lambda=0.5, subsample=0.8, verbosity=-1; total time=   0.6s\n",
      "[CV] END boosting_type=gbdt, colsample_bytree=1.0, is_unbalance=True, learning_rate=0.01, max_depth=8, metric=auc, min_child_weight=0.1, min_split_gain=0.0, n_estimators=50, num_leaves=20, reg_alpha=0.5, reg_lambda=0.5, subsample=0.8, verbosity=-1; total time=   0.7s\n",
      "[CV] END boosting_type=gbdt, colsample_bytree=1.0, is_unbalance=True, learning_rate=0.01, max_depth=8, metric=auc, min_child_weight=0.1, min_split_gain=0.0, n_estimators=50, num_leaves=20, reg_alpha=0.5, reg_lambda=0.5, subsample=0.8, verbosity=-1; total time=   0.8s\n",
      "[CV] END boosting_type=gbdt, colsample_bytree=1.0, is_unbalance=True, learning_rate=0.01, max_depth=8, metric=auc, min_child_weight=0.1, min_split_gain=0.0, n_estimators=50, num_leaves=20, reg_alpha=0.5, reg_lambda=0.5, subsample=0.8, verbosity=-1; total time=   1.0s\n",
      "[CV] END boosting_type=gbdt, colsample_bytree=1.0, is_unbalance=True, learning_rate=0.1, max_depth=16, metric=binary_logloss, min_child_weight=0.1, min_split_gain=0.0, n_estimators=200, num_leaves=20, reg_alpha=0.1, reg_lambda=0.5, subsample=0.8, verbosity=-1; total time=   1.9s\n"
     ]
    },
    {
     "name": "stdout",
     "output_type": "stream",
     "text": [
      "[CV] END boosting_type=gbdt, colsample_bytree=1.0, is_unbalance=True, learning_rate=0.1, max_depth=16, metric=binary_logloss, min_child_weight=0.1, min_split_gain=0.0, n_estimators=200, num_leaves=20, reg_alpha=0.1, reg_lambda=0.5, subsample=0.8, verbosity=-1; total time=   1.7s\n",
      "[CV] END boosting_type=gbdt, colsample_bytree=1.0, is_unbalance=True, learning_rate=0.1, max_depth=16, metric=binary_logloss, min_child_weight=0.1, min_split_gain=0.0, n_estimators=200, num_leaves=20, reg_alpha=0.1, reg_lambda=0.5, subsample=0.8, verbosity=-1; total time=   1.6s\n",
      "[CV] END boosting_type=gbdt, colsample_bytree=1.0, is_unbalance=True, learning_rate=0.1, max_depth=16, metric=binary_logloss, min_child_weight=0.1, min_split_gain=0.0, n_estimators=200, num_leaves=20, reg_alpha=0.1, reg_lambda=0.5, subsample=0.8, verbosity=-1; total time=   1.8s\n",
      "[CV] END boosting_type=gbdt, colsample_bytree=1.0, is_unbalance=True, learning_rate=0.1, max_depth=16, metric=binary_logloss, min_child_weight=0.1, min_split_gain=0.0, n_estimators=200, num_leaves=20, reg_alpha=0.1, reg_lambda=0.5, subsample=0.8, verbosity=-1; total time=   1.8s\n",
      "[CV] END boosting_type=gbdt, colsample_bytree=1.0, is_unbalance=False, learning_rate=0.5, max_depth=16, metric=binary_logloss, min_child_weight=0.001, min_split_gain=0.1, n_estimators=100, num_leaves=10, reg_alpha=0.5, reg_lambda=0.5, subsample=0.8, verbosity=-1; total time=   0.9s\n",
      "[CV] END boosting_type=gbdt, colsample_bytree=1.0, is_unbalance=False, learning_rate=0.5, max_depth=16, metric=binary_logloss, min_child_weight=0.001, min_split_gain=0.1, n_estimators=100, num_leaves=10, reg_alpha=0.5, reg_lambda=0.5, subsample=0.8, verbosity=-1; total time=   1.1s\n",
      "[CV] END boosting_type=gbdt, colsample_bytree=1.0, is_unbalance=False, learning_rate=0.5, max_depth=16, metric=binary_logloss, min_child_weight=0.001, min_split_gain=0.1, n_estimators=100, num_leaves=10, reg_alpha=0.5, reg_lambda=0.5, subsample=0.8, verbosity=-1; total time=   1.0s\n",
      "[CV] END boosting_type=gbdt, colsample_bytree=1.0, is_unbalance=False, learning_rate=0.5, max_depth=16, metric=binary_logloss, min_child_weight=0.001, min_split_gain=0.1, n_estimators=100, num_leaves=10, reg_alpha=0.5, reg_lambda=0.5, subsample=0.8, verbosity=-1; total time=   0.8s\n",
      "[CV] END boosting_type=gbdt, colsample_bytree=1.0, is_unbalance=False, learning_rate=0.5, max_depth=16, metric=binary_logloss, min_child_weight=0.001, min_split_gain=0.1, n_estimators=100, num_leaves=10, reg_alpha=0.5, reg_lambda=0.5, subsample=0.8, verbosity=-1; total time=   0.7s\n",
      "[CV] END boosting_type=dart, colsample_bytree=1.0, is_unbalance=False, learning_rate=0.1, max_depth=8, metric=binary_logloss, min_child_weight=0.01, min_split_gain=0.1, n_estimators=100, num_leaves=10, reg_alpha=0.5, reg_lambda=0.1, subsample=1.0, verbosity=-1; total time=   1.9s\n",
      "[CV] END boosting_type=dart, colsample_bytree=1.0, is_unbalance=False, learning_rate=0.1, max_depth=8, metric=binary_logloss, min_child_weight=0.01, min_split_gain=0.1, n_estimators=100, num_leaves=10, reg_alpha=0.5, reg_lambda=0.1, subsample=1.0, verbosity=-1; total time=   1.5s\n",
      "[CV] END boosting_type=dart, colsample_bytree=1.0, is_unbalance=False, learning_rate=0.1, max_depth=8, metric=binary_logloss, min_child_weight=0.01, min_split_gain=0.1, n_estimators=100, num_leaves=10, reg_alpha=0.5, reg_lambda=0.1, subsample=1.0, verbosity=-1; total time=   1.6s\n",
      "[CV] END boosting_type=dart, colsample_bytree=1.0, is_unbalance=False, learning_rate=0.1, max_depth=8, metric=binary_logloss, min_child_weight=0.01, min_split_gain=0.1, n_estimators=100, num_leaves=10, reg_alpha=0.5, reg_lambda=0.1, subsample=1.0, verbosity=-1; total time=   1.7s\n",
      "[CV] END boosting_type=dart, colsample_bytree=1.0, is_unbalance=False, learning_rate=0.1, max_depth=8, metric=binary_logloss, min_child_weight=0.01, min_split_gain=0.1, n_estimators=100, num_leaves=10, reg_alpha=0.5, reg_lambda=0.1, subsample=1.0, verbosity=-1; total time=   1.7s\n",
      "[CV] END boosting_type=gbdt, colsample_bytree=1.0, is_unbalance=True, learning_rate=0.1, max_depth=8, metric=binary_logloss, min_child_weight=0.001, min_split_gain=0.1, n_estimators=200, num_leaves=20, reg_alpha=0.0, reg_lambda=0.1, subsample=0.8, verbosity=-1; total time=   1.7s\n",
      "[CV] END boosting_type=gbdt, colsample_bytree=1.0, is_unbalance=True, learning_rate=0.1, max_depth=8, metric=binary_logloss, min_child_weight=0.001, min_split_gain=0.1, n_estimators=200, num_leaves=20, reg_alpha=0.0, reg_lambda=0.1, subsample=0.8, verbosity=-1; total time=   1.6s\n",
      "[CV] END boosting_type=gbdt, colsample_bytree=1.0, is_unbalance=True, learning_rate=0.1, max_depth=8, metric=binary_logloss, min_child_weight=0.001, min_split_gain=0.1, n_estimators=200, num_leaves=20, reg_alpha=0.0, reg_lambda=0.1, subsample=0.8, verbosity=-1; total time=   1.9s\n",
      "[CV] END boosting_type=gbdt, colsample_bytree=1.0, is_unbalance=True, learning_rate=0.1, max_depth=8, metric=binary_logloss, min_child_weight=0.001, min_split_gain=0.1, n_estimators=200, num_leaves=20, reg_alpha=0.0, reg_lambda=0.1, subsample=0.8, verbosity=-1; total time=   2.0s\n",
      "[CV] END boosting_type=gbdt, colsample_bytree=1.0, is_unbalance=True, learning_rate=0.1, max_depth=8, metric=binary_logloss, min_child_weight=0.001, min_split_gain=0.1, n_estimators=200, num_leaves=20, reg_alpha=0.0, reg_lambda=0.1, subsample=0.8, verbosity=-1; total time=   2.1s\n",
      "[CV] END boosting_type=gbdt, colsample_bytree=1.0, is_unbalance=True, learning_rate=0.01, max_depth=8, metric=auc, min_child_weight=0.01, min_split_gain=0.1, n_estimators=200, num_leaves=20, reg_alpha=0.1, reg_lambda=0.5, subsample=1.0, verbosity=-1; total time=   1.8s\n",
      "[CV] END boosting_type=gbdt, colsample_bytree=1.0, is_unbalance=True, learning_rate=0.01, max_depth=8, metric=auc, min_child_weight=0.01, min_split_gain=0.1, n_estimators=200, num_leaves=20, reg_alpha=0.1, reg_lambda=0.5, subsample=1.0, verbosity=-1; total time=   1.7s\n",
      "[CV] END boosting_type=gbdt, colsample_bytree=1.0, is_unbalance=True, learning_rate=0.01, max_depth=8, metric=auc, min_child_weight=0.01, min_split_gain=0.1, n_estimators=200, num_leaves=20, reg_alpha=0.1, reg_lambda=0.5, subsample=1.0, verbosity=-1; total time=   1.6s\n",
      "[CV] END boosting_type=gbdt, colsample_bytree=1.0, is_unbalance=True, learning_rate=0.01, max_depth=8, metric=auc, min_child_weight=0.01, min_split_gain=0.1, n_estimators=200, num_leaves=20, reg_alpha=0.1, reg_lambda=0.5, subsample=1.0, verbosity=-1; total time=   1.8s\n",
      "[CV] END boosting_type=gbdt, colsample_bytree=1.0, is_unbalance=True, learning_rate=0.01, max_depth=8, metric=auc, min_child_weight=0.01, min_split_gain=0.1, n_estimators=200, num_leaves=20, reg_alpha=0.1, reg_lambda=0.5, subsample=1.0, verbosity=-1; total time=   1.7s\n",
      "[CV] END boosting_type=dart, colsample_bytree=1.0, is_unbalance=False, learning_rate=0.5, max_depth=16, metric=auc, min_child_weight=0.1, min_split_gain=0.5, n_estimators=100, num_leaves=10, reg_alpha=0.5, reg_lambda=0.1, subsample=0.8, verbosity=-1; total time=   1.6s\n",
      "[CV] END boosting_type=dart, colsample_bytree=1.0, is_unbalance=False, learning_rate=0.5, max_depth=16, metric=auc, min_child_weight=0.1, min_split_gain=0.5, n_estimators=100, num_leaves=10, reg_alpha=0.5, reg_lambda=0.1, subsample=0.8, verbosity=-1; total time=   1.6s\n",
      "[CV] END boosting_type=dart, colsample_bytree=1.0, is_unbalance=False, learning_rate=0.5, max_depth=16, metric=auc, min_child_weight=0.1, min_split_gain=0.5, n_estimators=100, num_leaves=10, reg_alpha=0.5, reg_lambda=0.1, subsample=0.8, verbosity=-1; total time=   1.7s\n",
      "[CV] END boosting_type=dart, colsample_bytree=1.0, is_unbalance=False, learning_rate=0.5, max_depth=16, metric=auc, min_child_weight=0.1, min_split_gain=0.5, n_estimators=100, num_leaves=10, reg_alpha=0.5, reg_lambda=0.1, subsample=0.8, verbosity=-1; total time=   1.7s\n",
      "[CV] END boosting_type=dart, colsample_bytree=1.0, is_unbalance=False, learning_rate=0.5, max_depth=16, metric=auc, min_child_weight=0.1, min_split_gain=0.5, n_estimators=100, num_leaves=10, reg_alpha=0.5, reg_lambda=0.1, subsample=0.8, verbosity=-1; total time=   1.8s\n",
      "[CV] END boosting_type=goss, colsample_bytree=1.0, is_unbalance=False, learning_rate=0.1, max_depth=16, metric=binary_logloss, min_child_weight=0.01, min_split_gain=0.0, n_estimators=50, num_leaves=20, reg_alpha=0.5, reg_lambda=0.0, subsample=0.8, verbosity=-1; total time=   0.8s\n"
     ]
    },
    {
     "name": "stdout",
     "output_type": "stream",
     "text": [
      "[CV] END boosting_type=goss, colsample_bytree=1.0, is_unbalance=False, learning_rate=0.1, max_depth=16, metric=binary_logloss, min_child_weight=0.01, min_split_gain=0.0, n_estimators=50, num_leaves=20, reg_alpha=0.5, reg_lambda=0.0, subsample=0.8, verbosity=-1; total time=   0.8s\n",
      "[CV] END boosting_type=goss, colsample_bytree=1.0, is_unbalance=False, learning_rate=0.1, max_depth=16, metric=binary_logloss, min_child_weight=0.01, min_split_gain=0.0, n_estimators=50, num_leaves=20, reg_alpha=0.5, reg_lambda=0.0, subsample=0.8, verbosity=-1; total time=   0.8s\n",
      "[CV] END boosting_type=goss, colsample_bytree=1.0, is_unbalance=False, learning_rate=0.1, max_depth=16, metric=binary_logloss, min_child_weight=0.01, min_split_gain=0.0, n_estimators=50, num_leaves=20, reg_alpha=0.5, reg_lambda=0.0, subsample=0.8, verbosity=-1; total time=   0.8s\n",
      "[CV] END boosting_type=goss, colsample_bytree=1.0, is_unbalance=False, learning_rate=0.1, max_depth=16, metric=binary_logloss, min_child_weight=0.01, min_split_gain=0.0, n_estimators=50, num_leaves=20, reg_alpha=0.5, reg_lambda=0.0, subsample=0.8, verbosity=-1; total time=   0.8s\n",
      "[CV] END boosting_type=dart, colsample_bytree=1.0, is_unbalance=True, learning_rate=0.1, max_depth=16, metric=binary_logloss, min_child_weight=0.001, min_split_gain=0.0, n_estimators=200, num_leaves=20, reg_alpha=0.1, reg_lambda=0.0, subsample=0.8, verbosity=-1; total time=   6.4s\n",
      "[CV] END boosting_type=dart, colsample_bytree=1.0, is_unbalance=True, learning_rate=0.1, max_depth=16, metric=binary_logloss, min_child_weight=0.001, min_split_gain=0.0, n_estimators=200, num_leaves=20, reg_alpha=0.1, reg_lambda=0.0, subsample=0.8, verbosity=-1; total time=   6.1s\n",
      "[CV] END boosting_type=dart, colsample_bytree=1.0, is_unbalance=True, learning_rate=0.1, max_depth=16, metric=binary_logloss, min_child_weight=0.001, min_split_gain=0.0, n_estimators=200, num_leaves=20, reg_alpha=0.1, reg_lambda=0.0, subsample=0.8, verbosity=-1; total time=   6.2s\n",
      "[CV] END boosting_type=dart, colsample_bytree=1.0, is_unbalance=True, learning_rate=0.1, max_depth=16, metric=binary_logloss, min_child_weight=0.001, min_split_gain=0.0, n_estimators=200, num_leaves=20, reg_alpha=0.1, reg_lambda=0.0, subsample=0.8, verbosity=-1; total time=   5.8s\n",
      "[CV] END boosting_type=dart, colsample_bytree=1.0, is_unbalance=True, learning_rate=0.1, max_depth=16, metric=binary_logloss, min_child_weight=0.001, min_split_gain=0.0, n_estimators=200, num_leaves=20, reg_alpha=0.1, reg_lambda=0.0, subsample=0.8, verbosity=-1; total time=   4.5s\n",
      "[CV] END boosting_type=dart, colsample_bytree=1.0, is_unbalance=True, learning_rate=0.1, max_depth=16, metric=binary_logloss, min_child_weight=0.01, min_split_gain=0.5, n_estimators=100, num_leaves=30, reg_alpha=0.1, reg_lambda=0.1, subsample=0.8, verbosity=-1; total time=   1.7s\n",
      "[CV] END boosting_type=dart, colsample_bytree=1.0, is_unbalance=True, learning_rate=0.1, max_depth=16, metric=binary_logloss, min_child_weight=0.01, min_split_gain=0.5, n_estimators=100, num_leaves=30, reg_alpha=0.1, reg_lambda=0.1, subsample=0.8, verbosity=-1; total time=   2.0s\n",
      "[CV] END boosting_type=dart, colsample_bytree=1.0, is_unbalance=True, learning_rate=0.1, max_depth=16, metric=binary_logloss, min_child_weight=0.01, min_split_gain=0.5, n_estimators=100, num_leaves=30, reg_alpha=0.1, reg_lambda=0.1, subsample=0.8, verbosity=-1; total time=   1.8s\n",
      "[CV] END boosting_type=dart, colsample_bytree=1.0, is_unbalance=True, learning_rate=0.1, max_depth=16, metric=binary_logloss, min_child_weight=0.01, min_split_gain=0.5, n_estimators=100, num_leaves=30, reg_alpha=0.1, reg_lambda=0.1, subsample=0.8, verbosity=-1; total time=   2.3s\n",
      "[CV] END boosting_type=dart, colsample_bytree=1.0, is_unbalance=True, learning_rate=0.1, max_depth=16, metric=binary_logloss, min_child_weight=0.01, min_split_gain=0.5, n_estimators=100, num_leaves=30, reg_alpha=0.1, reg_lambda=0.1, subsample=0.8, verbosity=-1; total time=   2.6s\n",
      "[CV] END boosting_type=goss, colsample_bytree=1.0, is_unbalance=False, learning_rate=0.01, max_depth=8, metric=auc, min_child_weight=0.01, min_split_gain=0.5, n_estimators=200, num_leaves=30, reg_alpha=0.1, reg_lambda=0.1, subsample=0.8, verbosity=-1; total time=   2.0s\n",
      "[CV] END boosting_type=goss, colsample_bytree=1.0, is_unbalance=False, learning_rate=0.01, max_depth=8, metric=auc, min_child_weight=0.01, min_split_gain=0.5, n_estimators=200, num_leaves=30, reg_alpha=0.1, reg_lambda=0.1, subsample=0.8, verbosity=-1; total time=   1.9s\n",
      "[CV] END boosting_type=goss, colsample_bytree=1.0, is_unbalance=False, learning_rate=0.01, max_depth=8, metric=auc, min_child_weight=0.01, min_split_gain=0.5, n_estimators=200, num_leaves=30, reg_alpha=0.1, reg_lambda=0.1, subsample=0.8, verbosity=-1; total time=   2.0s\n",
      "[CV] END boosting_type=goss, colsample_bytree=1.0, is_unbalance=False, learning_rate=0.01, max_depth=8, metric=auc, min_child_weight=0.01, min_split_gain=0.5, n_estimators=200, num_leaves=30, reg_alpha=0.1, reg_lambda=0.1, subsample=0.8, verbosity=-1; total time=   2.0s\n",
      "[CV] END boosting_type=goss, colsample_bytree=1.0, is_unbalance=False, learning_rate=0.01, max_depth=8, metric=auc, min_child_weight=0.01, min_split_gain=0.5, n_estimators=200, num_leaves=30, reg_alpha=0.1, reg_lambda=0.1, subsample=0.8, verbosity=-1; total time=   2.1s\n",
      "[CV] END boosting_type=gbdt, colsample_bytree=0.8, is_unbalance=False, learning_rate=0.01, max_depth=16, metric=binary_logloss, min_child_weight=0.01, min_split_gain=0.5, n_estimators=50, num_leaves=10, reg_alpha=0.5, reg_lambda=0.5, subsample=1.0, verbosity=-1; total time=   0.7s\n",
      "[CV] END boosting_type=gbdt, colsample_bytree=0.8, is_unbalance=False, learning_rate=0.01, max_depth=16, metric=binary_logloss, min_child_weight=0.01, min_split_gain=0.5, n_estimators=50, num_leaves=10, reg_alpha=0.5, reg_lambda=0.5, subsample=1.0, verbosity=-1; total time=   0.7s\n",
      "[CV] END boosting_type=gbdt, colsample_bytree=0.8, is_unbalance=False, learning_rate=0.01, max_depth=16, metric=binary_logloss, min_child_weight=0.01, min_split_gain=0.5, n_estimators=50, num_leaves=10, reg_alpha=0.5, reg_lambda=0.5, subsample=1.0, verbosity=-1; total time=   0.5s\n",
      "[CV] END boosting_type=gbdt, colsample_bytree=0.8, is_unbalance=False, learning_rate=0.01, max_depth=16, metric=binary_logloss, min_child_weight=0.01, min_split_gain=0.5, n_estimators=50, num_leaves=10, reg_alpha=0.5, reg_lambda=0.5, subsample=1.0, verbosity=-1; total time=   0.5s\n",
      "[CV] END boosting_type=gbdt, colsample_bytree=0.8, is_unbalance=False, learning_rate=0.01, max_depth=16, metric=binary_logloss, min_child_weight=0.01, min_split_gain=0.5, n_estimators=50, num_leaves=10, reg_alpha=0.5, reg_lambda=0.5, subsample=1.0, verbosity=-1; total time=   0.5s\n",
      "[CV] END boosting_type=gbdt, colsample_bytree=0.8, is_unbalance=False, learning_rate=0.1, max_depth=8, metric=binary_logloss, min_child_weight=0.1, min_split_gain=0.0, n_estimators=200, num_leaves=30, reg_alpha=0.5, reg_lambda=0.0, subsample=0.8, verbosity=-1; total time=   2.0s\n",
      "[CV] END boosting_type=gbdt, colsample_bytree=0.8, is_unbalance=False, learning_rate=0.1, max_depth=8, metric=binary_logloss, min_child_weight=0.1, min_split_gain=0.0, n_estimators=200, num_leaves=30, reg_alpha=0.5, reg_lambda=0.0, subsample=0.8, verbosity=-1; total time=   1.3s\n",
      "[CV] END boosting_type=gbdt, colsample_bytree=0.8, is_unbalance=False, learning_rate=0.1, max_depth=8, metric=binary_logloss, min_child_weight=0.1, min_split_gain=0.0, n_estimators=200, num_leaves=30, reg_alpha=0.5, reg_lambda=0.0, subsample=0.8, verbosity=-1; total time=   1.4s\n",
      "[CV] END boosting_type=gbdt, colsample_bytree=0.8, is_unbalance=False, learning_rate=0.1, max_depth=8, metric=binary_logloss, min_child_weight=0.1, min_split_gain=0.0, n_estimators=200, num_leaves=30, reg_alpha=0.5, reg_lambda=0.0, subsample=0.8, verbosity=-1; total time=   1.4s\n",
      "[CV] END boosting_type=gbdt, colsample_bytree=0.8, is_unbalance=False, learning_rate=0.1, max_depth=8, metric=binary_logloss, min_child_weight=0.1, min_split_gain=0.0, n_estimators=200, num_leaves=30, reg_alpha=0.5, reg_lambda=0.0, subsample=0.8, verbosity=-1; total time=   1.8s\n",
      "[CV] END boosting_type=gbdt, colsample_bytree=0.8, is_unbalance=False, learning_rate=0.5, max_depth=16, metric=auc, min_child_weight=0.01, min_split_gain=0.0, n_estimators=50, num_leaves=10, reg_alpha=0.0, reg_lambda=0.0, subsample=0.8, verbosity=-1; total time=   0.6s\n"
     ]
    },
    {
     "name": "stdout",
     "output_type": "stream",
     "text": [
      "[CV] END boosting_type=gbdt, colsample_bytree=0.8, is_unbalance=False, learning_rate=0.5, max_depth=16, metric=auc, min_child_weight=0.01, min_split_gain=0.0, n_estimators=50, num_leaves=10, reg_alpha=0.0, reg_lambda=0.0, subsample=0.8, verbosity=-1; total time=   0.4s\n",
      "[CV] END boosting_type=gbdt, colsample_bytree=0.8, is_unbalance=False, learning_rate=0.5, max_depth=16, metric=auc, min_child_weight=0.01, min_split_gain=0.0, n_estimators=50, num_leaves=10, reg_alpha=0.0, reg_lambda=0.0, subsample=0.8, verbosity=-1; total time=   0.5s\n",
      "[CV] END boosting_type=gbdt, colsample_bytree=0.8, is_unbalance=False, learning_rate=0.5, max_depth=16, metric=auc, min_child_weight=0.01, min_split_gain=0.0, n_estimators=50, num_leaves=10, reg_alpha=0.0, reg_lambda=0.0, subsample=0.8, verbosity=-1; total time=   0.5s\n",
      "[CV] END boosting_type=gbdt, colsample_bytree=0.8, is_unbalance=False, learning_rate=0.5, max_depth=16, metric=auc, min_child_weight=0.01, min_split_gain=0.0, n_estimators=50, num_leaves=10, reg_alpha=0.0, reg_lambda=0.0, subsample=0.8, verbosity=-1; total time=   0.5s\n",
      "[CV] END boosting_type=dart, colsample_bytree=0.8, is_unbalance=False, learning_rate=0.5, max_depth=16, metric=auc, min_child_weight=0.001, min_split_gain=0.5, n_estimators=100, num_leaves=10, reg_alpha=0.1, reg_lambda=0.1, subsample=0.8, verbosity=-1; total time=   1.4s\n",
      "[CV] END boosting_type=dart, colsample_bytree=0.8, is_unbalance=False, learning_rate=0.5, max_depth=16, metric=auc, min_child_weight=0.001, min_split_gain=0.5, n_estimators=100, num_leaves=10, reg_alpha=0.1, reg_lambda=0.1, subsample=0.8, verbosity=-1; total time=   1.6s\n",
      "[CV] END boosting_type=dart, colsample_bytree=0.8, is_unbalance=False, learning_rate=0.5, max_depth=16, metric=auc, min_child_weight=0.001, min_split_gain=0.5, n_estimators=100, num_leaves=10, reg_alpha=0.1, reg_lambda=0.1, subsample=0.8, verbosity=-1; total time=   1.4s\n",
      "[CV] END boosting_type=dart, colsample_bytree=0.8, is_unbalance=False, learning_rate=0.5, max_depth=16, metric=auc, min_child_weight=0.001, min_split_gain=0.5, n_estimators=100, num_leaves=10, reg_alpha=0.1, reg_lambda=0.1, subsample=0.8, verbosity=-1; total time=   1.6s\n",
      "[CV] END boosting_type=dart, colsample_bytree=0.8, is_unbalance=False, learning_rate=0.5, max_depth=16, metric=auc, min_child_weight=0.001, min_split_gain=0.5, n_estimators=100, num_leaves=10, reg_alpha=0.1, reg_lambda=0.1, subsample=0.8, verbosity=-1; total time=   1.1s\n",
      "[CV] END boosting_type=goss, colsample_bytree=1.0, is_unbalance=True, learning_rate=0.5, max_depth=16, metric=binary_logloss, min_child_weight=0.01, min_split_gain=0.1, n_estimators=100, num_leaves=30, reg_alpha=0.5, reg_lambda=0.1, subsample=1.0, verbosity=-1; total time=   1.0s\n",
      "[CV] END boosting_type=goss, colsample_bytree=1.0, is_unbalance=True, learning_rate=0.5, max_depth=16, metric=binary_logloss, min_child_weight=0.01, min_split_gain=0.1, n_estimators=100, num_leaves=30, reg_alpha=0.5, reg_lambda=0.1, subsample=1.0, verbosity=-1; total time=   1.1s\n",
      "[CV] END boosting_type=goss, colsample_bytree=1.0, is_unbalance=True, learning_rate=0.5, max_depth=16, metric=binary_logloss, min_child_weight=0.01, min_split_gain=0.1, n_estimators=100, num_leaves=30, reg_alpha=0.5, reg_lambda=0.1, subsample=1.0, verbosity=-1; total time=   1.0s\n",
      "[CV] END boosting_type=goss, colsample_bytree=1.0, is_unbalance=True, learning_rate=0.5, max_depth=16, metric=binary_logloss, min_child_weight=0.01, min_split_gain=0.1, n_estimators=100, num_leaves=30, reg_alpha=0.5, reg_lambda=0.1, subsample=1.0, verbosity=-1; total time=   1.0s\n",
      "[CV] END boosting_type=goss, colsample_bytree=1.0, is_unbalance=True, learning_rate=0.5, max_depth=16, metric=binary_logloss, min_child_weight=0.01, min_split_gain=0.1, n_estimators=100, num_leaves=30, reg_alpha=0.5, reg_lambda=0.1, subsample=1.0, verbosity=-1; total time=   1.2s\n",
      "[CV] END boosting_type=dart, colsample_bytree=0.8, is_unbalance=False, learning_rate=0.5, max_depth=16, metric=binary_logloss, min_child_weight=0.1, min_split_gain=0.5, n_estimators=200, num_leaves=10, reg_alpha=0.5, reg_lambda=0.0, subsample=1.0, verbosity=-1; total time=   4.2s\n",
      "[CV] END boosting_type=dart, colsample_bytree=0.8, is_unbalance=False, learning_rate=0.5, max_depth=16, metric=binary_logloss, min_child_weight=0.1, min_split_gain=0.5, n_estimators=200, num_leaves=10, reg_alpha=0.5, reg_lambda=0.0, subsample=1.0, verbosity=-1; total time=   4.1s\n",
      "[CV] END boosting_type=dart, colsample_bytree=0.8, is_unbalance=False, learning_rate=0.5, max_depth=16, metric=binary_logloss, min_child_weight=0.1, min_split_gain=0.5, n_estimators=200, num_leaves=10, reg_alpha=0.5, reg_lambda=0.0, subsample=1.0, verbosity=-1; total time=   3.1s\n",
      "[CV] END boosting_type=dart, colsample_bytree=0.8, is_unbalance=False, learning_rate=0.5, max_depth=16, metric=binary_logloss, min_child_weight=0.1, min_split_gain=0.5, n_estimators=200, num_leaves=10, reg_alpha=0.5, reg_lambda=0.0, subsample=1.0, verbosity=-1; total time=   3.2s\n",
      "[CV] END boosting_type=dart, colsample_bytree=0.8, is_unbalance=False, learning_rate=0.5, max_depth=16, metric=binary_logloss, min_child_weight=0.1, min_split_gain=0.5, n_estimators=200, num_leaves=10, reg_alpha=0.5, reg_lambda=0.0, subsample=1.0, verbosity=-1; total time=   2.9s\n",
      "[CV] END boosting_type=goss, colsample_bytree=1.0, is_unbalance=False, learning_rate=0.01, max_depth=8, metric=binary_logloss, min_child_weight=0.1, min_split_gain=0.1, n_estimators=50, num_leaves=20, reg_alpha=0.0, reg_lambda=0.0, subsample=1.0, verbosity=-1; total time=   0.6s\n",
      "[CV] END boosting_type=goss, colsample_bytree=1.0, is_unbalance=False, learning_rate=0.01, max_depth=8, metric=binary_logloss, min_child_weight=0.1, min_split_gain=0.1, n_estimators=50, num_leaves=20, reg_alpha=0.0, reg_lambda=0.0, subsample=1.0, verbosity=-1; total time=   0.5s\n",
      "[CV] END boosting_type=goss, colsample_bytree=1.0, is_unbalance=False, learning_rate=0.01, max_depth=8, metric=binary_logloss, min_child_weight=0.1, min_split_gain=0.1, n_estimators=50, num_leaves=20, reg_alpha=0.0, reg_lambda=0.0, subsample=1.0, verbosity=-1; total time=   0.6s\n",
      "[CV] END boosting_type=goss, colsample_bytree=1.0, is_unbalance=False, learning_rate=0.01, max_depth=8, metric=binary_logloss, min_child_weight=0.1, min_split_gain=0.1, n_estimators=50, num_leaves=20, reg_alpha=0.0, reg_lambda=0.0, subsample=1.0, verbosity=-1; total time=   0.7s\n",
      "[CV] END boosting_type=goss, colsample_bytree=1.0, is_unbalance=False, learning_rate=0.01, max_depth=8, metric=binary_logloss, min_child_weight=0.1, min_split_gain=0.1, n_estimators=50, num_leaves=20, reg_alpha=0.0, reg_lambda=0.0, subsample=1.0, verbosity=-1; total time=   0.7s\n",
      "[CV] END boosting_type=goss, colsample_bytree=0.8, is_unbalance=True, learning_rate=0.01, max_depth=8, metric=binary_logloss, min_child_weight=0.1, min_split_gain=0.1, n_estimators=100, num_leaves=30, reg_alpha=0.5, reg_lambda=0.0, subsample=0.8, verbosity=-1; total time=   1.5s\n",
      "[CV] END boosting_type=goss, colsample_bytree=0.8, is_unbalance=True, learning_rate=0.01, max_depth=8, metric=binary_logloss, min_child_weight=0.1, min_split_gain=0.1, n_estimators=100, num_leaves=30, reg_alpha=0.5, reg_lambda=0.0, subsample=0.8, verbosity=-1; total time=   1.4s\n",
      "[CV] END boosting_type=goss, colsample_bytree=0.8, is_unbalance=True, learning_rate=0.01, max_depth=8, metric=binary_logloss, min_child_weight=0.1, min_split_gain=0.1, n_estimators=100, num_leaves=30, reg_alpha=0.5, reg_lambda=0.0, subsample=0.8, verbosity=-1; total time=   0.9s\n",
      "[CV] END boosting_type=goss, colsample_bytree=0.8, is_unbalance=True, learning_rate=0.01, max_depth=8, metric=binary_logloss, min_child_weight=0.1, min_split_gain=0.1, n_estimators=100, num_leaves=30, reg_alpha=0.5, reg_lambda=0.0, subsample=0.8, verbosity=-1; total time=   0.9s\n",
      "[CV] END boosting_type=goss, colsample_bytree=0.8, is_unbalance=True, learning_rate=0.01, max_depth=8, metric=binary_logloss, min_child_weight=0.1, min_split_gain=0.1, n_estimators=100, num_leaves=30, reg_alpha=0.5, reg_lambda=0.0, subsample=0.8, verbosity=-1; total time=   1.0s\n",
      "[CV] END boosting_type=gbdt, colsample_bytree=1.0, is_unbalance=True, learning_rate=0.5, max_depth=16, metric=binary_logloss, min_child_weight=0.01, min_split_gain=0.5, n_estimators=50, num_leaves=10, reg_alpha=0.0, reg_lambda=0.5, subsample=1.0, verbosity=-1; total time=   0.5s\n"
     ]
    },
    {
     "name": "stdout",
     "output_type": "stream",
     "text": [
      "[CV] END boosting_type=gbdt, colsample_bytree=1.0, is_unbalance=True, learning_rate=0.5, max_depth=16, metric=binary_logloss, min_child_weight=0.01, min_split_gain=0.5, n_estimators=50, num_leaves=10, reg_alpha=0.0, reg_lambda=0.5, subsample=1.0, verbosity=-1; total time=   0.4s\n",
      "[CV] END boosting_type=gbdt, colsample_bytree=1.0, is_unbalance=True, learning_rate=0.5, max_depth=16, metric=binary_logloss, min_child_weight=0.01, min_split_gain=0.5, n_estimators=50, num_leaves=10, reg_alpha=0.0, reg_lambda=0.5, subsample=1.0, verbosity=-1; total time=   0.4s\n",
      "[CV] END boosting_type=gbdt, colsample_bytree=1.0, is_unbalance=True, learning_rate=0.5, max_depth=16, metric=binary_logloss, min_child_weight=0.01, min_split_gain=0.5, n_estimators=50, num_leaves=10, reg_alpha=0.0, reg_lambda=0.5, subsample=1.0, verbosity=-1; total time=   0.4s\n",
      "[CV] END boosting_type=gbdt, colsample_bytree=1.0, is_unbalance=True, learning_rate=0.5, max_depth=16, metric=binary_logloss, min_child_weight=0.01, min_split_gain=0.5, n_estimators=50, num_leaves=10, reg_alpha=0.0, reg_lambda=0.5, subsample=1.0, verbosity=-1; total time=   0.4s\n",
      "[CV] END boosting_type=gbdt, colsample_bytree=0.8, is_unbalance=False, learning_rate=0.01, max_depth=16, metric=binary_logloss, min_child_weight=0.001, min_split_gain=0.1, n_estimators=50, num_leaves=30, reg_alpha=0.0, reg_lambda=0.5, subsample=0.8, verbosity=-1; total time=   0.8s\n",
      "[CV] END boosting_type=gbdt, colsample_bytree=0.8, is_unbalance=False, learning_rate=0.01, max_depth=16, metric=binary_logloss, min_child_weight=0.001, min_split_gain=0.1, n_estimators=50, num_leaves=30, reg_alpha=0.0, reg_lambda=0.5, subsample=0.8, verbosity=-1; total time=   0.6s\n",
      "[CV] END boosting_type=gbdt, colsample_bytree=0.8, is_unbalance=False, learning_rate=0.01, max_depth=16, metric=binary_logloss, min_child_weight=0.001, min_split_gain=0.1, n_estimators=50, num_leaves=30, reg_alpha=0.0, reg_lambda=0.5, subsample=0.8, verbosity=-1; total time=   0.5s\n",
      "[CV] END boosting_type=gbdt, colsample_bytree=0.8, is_unbalance=False, learning_rate=0.01, max_depth=16, metric=binary_logloss, min_child_weight=0.001, min_split_gain=0.1, n_estimators=50, num_leaves=30, reg_alpha=0.0, reg_lambda=0.5, subsample=0.8, verbosity=-1; total time=   0.6s\n",
      "[CV] END boosting_type=gbdt, colsample_bytree=0.8, is_unbalance=False, learning_rate=0.01, max_depth=16, metric=binary_logloss, min_child_weight=0.001, min_split_gain=0.1, n_estimators=50, num_leaves=30, reg_alpha=0.0, reg_lambda=0.5, subsample=0.8, verbosity=-1; total time=   0.6s\n",
      "[CV] END boosting_type=dart, colsample_bytree=0.8, is_unbalance=True, learning_rate=0.01, max_depth=8, metric=auc, min_child_weight=0.001, min_split_gain=0.5, n_estimators=100, num_leaves=10, reg_alpha=0.1, reg_lambda=0.5, subsample=0.8, verbosity=-1; total time=   1.1s\n",
      "[CV] END boosting_type=dart, colsample_bytree=0.8, is_unbalance=True, learning_rate=0.01, max_depth=8, metric=auc, min_child_weight=0.001, min_split_gain=0.5, n_estimators=100, num_leaves=10, reg_alpha=0.1, reg_lambda=0.5, subsample=0.8, verbosity=-1; total time=   1.5s\n",
      "[CV] END boosting_type=dart, colsample_bytree=0.8, is_unbalance=True, learning_rate=0.01, max_depth=8, metric=auc, min_child_weight=0.001, min_split_gain=0.5, n_estimators=100, num_leaves=10, reg_alpha=0.1, reg_lambda=0.5, subsample=0.8, verbosity=-1; total time=   1.3s\n",
      "[CV] END boosting_type=dart, colsample_bytree=0.8, is_unbalance=True, learning_rate=0.01, max_depth=8, metric=auc, min_child_weight=0.001, min_split_gain=0.5, n_estimators=100, num_leaves=10, reg_alpha=0.1, reg_lambda=0.5, subsample=0.8, verbosity=-1; total time=   1.3s\n",
      "[CV] END boosting_type=dart, colsample_bytree=0.8, is_unbalance=True, learning_rate=0.01, max_depth=8, metric=auc, min_child_weight=0.001, min_split_gain=0.5, n_estimators=100, num_leaves=10, reg_alpha=0.1, reg_lambda=0.5, subsample=0.8, verbosity=-1; total time=   1.4s\n",
      "[CV] END boosting_type=dart, colsample_bytree=0.8, is_unbalance=True, learning_rate=0.1, max_depth=16, metric=binary_logloss, min_child_weight=0.01, min_split_gain=0.1, n_estimators=50, num_leaves=20, reg_alpha=0.1, reg_lambda=0.0, subsample=1.0, verbosity=-1; total time=   0.6s\n",
      "[CV] END boosting_type=dart, colsample_bytree=0.8, is_unbalance=True, learning_rate=0.1, max_depth=16, metric=binary_logloss, min_child_weight=0.01, min_split_gain=0.1, n_estimators=50, num_leaves=20, reg_alpha=0.1, reg_lambda=0.0, subsample=1.0, verbosity=-1; total time=   0.6s\n",
      "[CV] END boosting_type=dart, colsample_bytree=0.8, is_unbalance=True, learning_rate=0.1, max_depth=16, metric=binary_logloss, min_child_weight=0.01, min_split_gain=0.1, n_estimators=50, num_leaves=20, reg_alpha=0.1, reg_lambda=0.0, subsample=1.0, verbosity=-1; total time=   0.9s\n",
      "[CV] END boosting_type=dart, colsample_bytree=0.8, is_unbalance=True, learning_rate=0.1, max_depth=16, metric=binary_logloss, min_child_weight=0.01, min_split_gain=0.1, n_estimators=50, num_leaves=20, reg_alpha=0.1, reg_lambda=0.0, subsample=1.0, verbosity=-1; total time=   0.7s\n",
      "[CV] END boosting_type=dart, colsample_bytree=0.8, is_unbalance=True, learning_rate=0.1, max_depth=16, metric=binary_logloss, min_child_weight=0.01, min_split_gain=0.1, n_estimators=50, num_leaves=20, reg_alpha=0.1, reg_lambda=0.0, subsample=1.0, verbosity=-1; total time=   0.6s\n",
      "[CV] END boosting_type=dart, colsample_bytree=1.0, is_unbalance=False, learning_rate=0.5, max_depth=16, metric=auc, min_child_weight=0.1, min_split_gain=0.5, n_estimators=200, num_leaves=10, reg_alpha=0.0, reg_lambda=0.5, subsample=0.8, verbosity=-1; total time=   2.9s\n",
      "[CV] END boosting_type=dart, colsample_bytree=1.0, is_unbalance=False, learning_rate=0.5, max_depth=16, metric=auc, min_child_weight=0.1, min_split_gain=0.5, n_estimators=200, num_leaves=10, reg_alpha=0.0, reg_lambda=0.5, subsample=0.8, verbosity=-1; total time=   2.9s\n",
      "[CV] END boosting_type=dart, colsample_bytree=1.0, is_unbalance=False, learning_rate=0.5, max_depth=16, metric=auc, min_child_weight=0.1, min_split_gain=0.5, n_estimators=200, num_leaves=10, reg_alpha=0.0, reg_lambda=0.5, subsample=0.8, verbosity=-1; total time=   4.0s\n",
      "[CV] END boosting_type=dart, colsample_bytree=1.0, is_unbalance=False, learning_rate=0.5, max_depth=16, metric=auc, min_child_weight=0.1, min_split_gain=0.5, n_estimators=200, num_leaves=10, reg_alpha=0.0, reg_lambda=0.5, subsample=0.8, verbosity=-1; total time=   3.3s\n",
      "[CV] END boosting_type=dart, colsample_bytree=1.0, is_unbalance=False, learning_rate=0.5, max_depth=16, metric=auc, min_child_weight=0.1, min_split_gain=0.5, n_estimators=200, num_leaves=10, reg_alpha=0.0, reg_lambda=0.5, subsample=0.8, verbosity=-1; total time=   3.2s\n",
      "[CV] END boosting_type=goss, colsample_bytree=1.0, is_unbalance=True, learning_rate=0.01, max_depth=16, metric=auc, min_child_weight=0.01, min_split_gain=0.1, n_estimators=100, num_leaves=20, reg_alpha=0.5, reg_lambda=0.5, subsample=0.8, verbosity=-1; total time=   1.0s\n",
      "[CV] END boosting_type=goss, colsample_bytree=1.0, is_unbalance=True, learning_rate=0.01, max_depth=16, metric=auc, min_child_weight=0.01, min_split_gain=0.1, n_estimators=100, num_leaves=20, reg_alpha=0.5, reg_lambda=0.5, subsample=0.8, verbosity=-1; total time=   0.9s\n",
      "[CV] END boosting_type=goss, colsample_bytree=1.0, is_unbalance=True, learning_rate=0.01, max_depth=16, metric=auc, min_child_weight=0.01, min_split_gain=0.1, n_estimators=100, num_leaves=20, reg_alpha=0.5, reg_lambda=0.5, subsample=0.8, verbosity=-1; total time=   0.9s\n",
      "[CV] END boosting_type=goss, colsample_bytree=1.0, is_unbalance=True, learning_rate=0.01, max_depth=16, metric=auc, min_child_weight=0.01, min_split_gain=0.1, n_estimators=100, num_leaves=20, reg_alpha=0.5, reg_lambda=0.5, subsample=0.8, verbosity=-1; total time=   0.9s\n",
      "[CV] END boosting_type=goss, colsample_bytree=1.0, is_unbalance=True, learning_rate=0.01, max_depth=16, metric=auc, min_child_weight=0.01, min_split_gain=0.1, n_estimators=100, num_leaves=20, reg_alpha=0.5, reg_lambda=0.5, subsample=0.8, verbosity=-1; total time=   0.9s\n"
     ]
    }
   ],
   "source": [
    "model = lgb.LGBMClassifier()\n",
    "random_search = RandomizedSearchCV(model, param_distributions = param_grid, n_iter = 30, scoring = 'roc_auc', cv = 5, verbose = 2)\n",
    "random_search.fit(X_train, y_train)\n",
    "best_params = random_search.best_params_\n",
    "best_score = random_search.best_score_"
   ]
  },
  {
   "cell_type": "code",
   "execution_count": 19,
   "id": "1d353ba1",
   "metadata": {},
   "outputs": [
    {
     "data": {
      "text/plain": [
       "{'verbosity': -1,\n",
       " 'subsample': 0.8,\n",
       " 'reg_lambda': 0.5,\n",
       " 'reg_alpha': 0.1,\n",
       " 'num_leaves': 20,\n",
       " 'n_estimators': 200,\n",
       " 'min_split_gain': 0.0,\n",
       " 'min_child_weight': 0.1,\n",
       " 'metric': 'binary_logloss',\n",
       " 'max_depth': 16,\n",
       " 'learning_rate': 0.1,\n",
       " 'is_unbalance': True,\n",
       " 'colsample_bytree': 1.0,\n",
       " 'boosting_type': 'gbdt'}"
      ]
     },
     "execution_count": 19,
     "metadata": {},
     "output_type": "execute_result"
    }
   ],
   "source": [
    "best_params"
   ]
  },
  {
   "cell_type": "code",
   "execution_count": 20,
   "id": "70493273",
   "metadata": {},
   "outputs": [
    {
     "name": "stdout",
     "output_type": "stream",
     "text": [
      "[[35862   117]\n",
      " [ 4159 31883]]\n",
      "              precision    recall  f1-score   support\n",
      "\n",
      "           0       0.90      1.00      0.94     35979\n",
      "           1       1.00      0.88      0.94     36042\n",
      "\n",
      "    accuracy                           0.94     72021\n",
      "   macro avg       0.95      0.94      0.94     72021\n",
      "weighted avg       0.95      0.94      0.94     72021\n",
      "\n"
     ]
    }
   ],
   "source": [
    "model = lgb.LGBMClassifier(**best_params)\n",
    "model.fit(X_train, y_train)\n",
    "y_pred = model.predict(X_test)\n",
    "y_pred_labels = (y_pred > 0.5).astype(int)\n",
    "print(confusion_matrix(y_test, y_pred_labels))\n",
    "print(classification_report(y_test, y_pred_labels))"
   ]
  },
  {
   "cell_type": "code",
   "execution_count": null,
   "id": "f2e2ca15",
   "metadata": {},
   "outputs": [],
   "source": []
  }
 ],
 "metadata": {
  "kernelspec": {
   "display_name": "Python 3 (ipykernel)",
   "language": "python",
   "name": "python3"
  },
  "language_info": {
   "codemirror_mode": {
    "name": "ipython",
    "version": 3
   },
   "file_extension": ".py",
   "mimetype": "text/x-python",
   "name": "python",
   "nbconvert_exporter": "python",
   "pygments_lexer": "ipython3",
   "version": "3.9.13"
  }
 },
 "nbformat": 4,
 "nbformat_minor": 5
}
