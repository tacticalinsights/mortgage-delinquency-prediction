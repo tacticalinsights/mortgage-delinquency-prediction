{
 "cells": [
  {
   "cell_type": "code",
   "execution_count": 1,
   "id": "8e706915",
   "metadata": {},
   "outputs": [],
   "source": [
    "import numpy as np\n",
    "import pandas as pd\n",
    "from collections import Counter\n",
    "from imblearn.over_sampling import SMOTE\n",
    "from sklearn.preprocessing import MinMaxScaler\n",
    "from sklearn.model_selection import train_test_split, GridSearchCV\n",
    "from sklearn.metrics import confusion_matrix, classification_report, SCORERS\n",
    "from sklearn.linear_model import LogisticRegression\n",
    "from sklearn.tree import DecisionTreeClassifier\n",
    "from sklearn.ensemble import RandomForestClassifier\n",
    "import xgboost as xgb\n",
    "import lightgbm as lgb\n",
    "import lazypredict\n",
    "from lazypredict.Supervised import LazyClassifier"
   ]
  },
  {
   "cell_type": "code",
   "execution_count": 2,
   "id": "b661f044",
   "metadata": {},
   "outputs": [],
   "source": [
    "home = 'C:\\\\Users\\\\iksri\\\\Documents\\\\Data Science\\\\Projects\\\\Credit Risk\\\\Home Loan Level Data - Freddie Mac\\\\Datasets'"
   ]
  },
  {
   "cell_type": "code",
   "execution_count": 3,
   "id": "fca9aa20",
   "metadata": {},
   "outputs": [],
   "source": [
    "y2010 = pd.DataFrame()\n",
    "y2011 = pd.DataFrame()\n",
    "y2012 = pd.DataFrame()\n",
    "y2013 = pd.DataFrame()\n",
    "y2014 = pd.DataFrame()\n",
    "y2015 = pd.DataFrame()\n",
    "y2016 = pd.DataFrame()\n",
    "y2017 = pd.DataFrame()\n",
    "\n",
    "data = [y2010,\n",
    "        y2011,\n",
    "        y2012,\n",
    "        y2013,\n",
    "        y2014,\n",
    "        y2015,\n",
    "        y2016,\n",
    "        y2017]"
   ]
  },
  {
   "cell_type": "code",
   "execution_count": 4,
   "id": "789eb382",
   "metadata": {},
   "outputs": [],
   "source": [
    "i = 0\n",
    "for yr in range(2010, 2017):\n",
    "    data[i] = pd.read_csv(home + f\"\\\\sample_{yr}.csv\", index_col = 'Loan Sequence Number')\n",
    "    i += 1"
   ]
  },
  {
   "cell_type": "code",
   "execution_count": 5,
   "id": "81a3ad9f",
   "metadata": {},
   "outputs": [],
   "source": [
    "data[-1] = pd.read_csv(home + f\"\\\\full_{yr}.csv\", index_col = 'Loan Sequence Number')"
   ]
  },
  {
   "cell_type": "markdown",
   "id": "a628bc2c",
   "metadata": {},
   "source": [
    "If column not in test df, then remove column from train df"
   ]
  },
  {
   "cell_type": "code",
   "execution_count": 6,
   "id": "e204efdf",
   "metadata": {},
   "outputs": [],
   "source": [
    "df = pd.concat(data).sample(n = 200000)"
   ]
  },
  {
   "cell_type": "code",
   "execution_count": 7,
   "id": "3a816c06",
   "metadata": {},
   "outputs": [],
   "source": [
    "# some seller names (banks) have NULL values since that feature is not defined for some data partitions\n",
    "# for instance, if bank X did not issue any loans in 2010, that feature is not present in y2010\n",
    "# so that row has a NULL value under the feature bank X in the concatenated dataframe\n",
    "# by substituting 0 for NULL values, we indicate the same thing; i.e. bank X did not issue a loan for a particular row\n",
    "df.fillna(0, inplace = True)"
   ]
  },
  {
   "cell_type": "markdown",
   "id": "5fd5ab84",
   "metadata": {},
   "source": [
    "## Model Training"
   ]
  },
  {
   "cell_type": "code",
   "execution_count": 8,
   "id": "41d30234",
   "metadata": {},
   "outputs": [],
   "source": [
    "scaler = MinMaxScaler()\n",
    "scaled_features = scaler.fit_transform(df.drop('Delinquent', axis = 1))"
   ]
  },
  {
   "cell_type": "code",
   "execution_count": 9,
   "id": "1f978f00",
   "metadata": {},
   "outputs": [],
   "source": [
    "X = scaled_features\n",
    "y = df['Delinquent'].values\n",
    "X_train, X_test, y_train, y_test = train_test_split(X, y, test_size = 0.2)"
   ]
  },
  {
   "cell_type": "code",
   "execution_count": 10,
   "id": "84c3bac0",
   "metadata": {
    "scrolled": true
   },
   "outputs": [],
   "source": [
    "clf = LazyClassifier(verbose = 2,ignore_warnings = False, custom_metric = None)"
   ]
  },
  {
   "cell_type": "code",
   "execution_count": 11,
   "id": "6e8923d8",
   "metadata": {
    "scrolled": true
   },
   "outputs": [
    {
     "name": "stderr",
     "output_type": "stream",
     "text": [
      "  3%|▎         | 1/29 [00:00<00:21,  1.32it/s]"
     ]
    },
    {
     "name": "stdout",
     "output_type": "stream",
     "text": [
      "{'Model': 'AdaBoostClassifier', 'Accuracy': 0.8865, 'Balanced Accuracy': 0.501377151799687, 'ROC AUC': 0.501377151799687, 'F1 Score': 0.8350583747028286, 'Time taken': 0.7573685646057129}\n"
     ]
    },
    {
     "name": "stderr",
     "output_type": "stream",
     "text": [
      "\r",
      "  7%|▋         | 2/29 [00:01<00:22,  1.19it/s]"
     ]
    },
    {
     "name": "stdout",
     "output_type": "stream",
     "text": [
      "{'Model': 'BaggingClassifier', 'Accuracy': 0.88, 'Balanced Accuracy': 0.509358372456964, 'ROC AUC': 0.509358372456964, 'F1 Score': 0.8368401360401225, 'Time taken': 0.9032979011535645}\n",
      "{'Model': 'BernoulliNB', 'Accuracy': 0.88, 'Balanced Accuracy': 0.5015962441314554, 'ROC AUC': 0.5015962441314554, 'F1 Score': 0.833504424548774, 'Time taken': 0.06116986274719238}\n"
     ]
    },
    {
     "name": "stderr",
     "output_type": "stream",
     "text": [
      " 21%|██        | 6/29 [00:11<00:41,  1.81s/it]"
     ]
    },
    {
     "name": "stdout",
     "output_type": "stream",
     "text": [
      "{'Model': 'CalibratedClassifierCV', 'Accuracy': 0.887, 'Balanced Accuracy': 0.49971830985915494, 'ROC AUC': 0.49971830985915494, 'F1 Score': 0.834353471118177, 'Time taken': 9.591317892074585}\n",
      "CategoricalNB model failed to execute\n",
      "Negative values in data passed to CategoricalNB (input X)\n",
      "{'Model': 'DecisionTreeClassifier', 'Accuracy': 0.8005, 'Balanced Accuracy': 0.530547730829421, 'ROC AUC': 0.530547730829421, 'F1 Score': 0.8060500644260234, 'Time taken': 0.15801310539245605}\n",
      "{'Model': 'DummyClassifier', 'Accuracy': 0.8875, 'Balanced Accuracy': 0.5, 'ROC AUC': 0.5, 'F1 Score': 0.8346026490066225, 'Time taken': 0.031951189041137695}\n",
      "{'Model': 'ExtraTreeClassifier', 'Accuracy': 0.8025, 'Balanced Accuracy': 0.5142097026604069, 'ROC AUC': 0.5142097026604069, 'F1 Score': 0.804185286088454, 'Time taken': 0.06470012664794922}\n"
     ]
    },
    {
     "name": "stderr",
     "output_type": "stream",
     "text": [
      "\r",
      " 31%|███       | 9/29 [00:12<00:22,  1.12s/it]"
     ]
    },
    {
     "name": "stdout",
     "output_type": "stream",
     "text": [
      "{'Model': 'ExtraTreesClassifier', 'Accuracy': 0.8855, 'Balanced Accuracy': 0.502754303599374, 'ROC AUC': 0.502754303599374, 'F1 Score': 0.8354792465857213, 'Time taken': 1.2471654415130615}\n",
      "{'Model': 'GaussianNB', 'Accuracy': 0.1665, 'Balanced Accuracy': 0.5148982785602504, 'ROC AUC': 0.5148982785602504, 'F1 Score': 0.13166442093950095, 'Time taken': 0.04600930213928223}\n"
     ]
    },
    {
     "name": "stderr",
     "output_type": "stream",
     "text": [
      "\r",
      " 38%|███▊      | 11/29 [00:13<00:14,  1.26it/s]"
     ]
    },
    {
     "name": "stdout",
     "output_type": "stream",
     "text": [
      "{'Model': 'KNeighborsClassifier', 'Accuracy': 0.8785, 'Balanced Accuracy': 0.5104538341158059, 'ROC AUC': 0.510453834115806, 'F1 Score': 0.836801450895276, 'Time taken': 0.17528605461120605}\n"
     ]
    },
    {
     "name": "stderr",
     "output_type": "stream",
     "text": [
      "\r",
      " 41%|████▏     | 12/29 [00:19<00:31,  1.82s/it]"
     ]
    },
    {
     "name": "stdout",
     "output_type": "stream",
     "text": [
      "{'Model': 'LabelPropagation', 'Accuracy': 0.812, 'Balanced Accuracy': 0.517621283255086, 'ROC AUC': 0.517621283255086, 'F1 Score': 0.8097413335589517, 'Time taken': 6.27386474609375}\n"
     ]
    },
    {
     "name": "stderr",
     "output_type": "stream",
     "text": [
      " 48%|████▊     | 14/29 [00:26<00:34,  2.28s/it]"
     ]
    },
    {
     "name": "stdout",
     "output_type": "stream",
     "text": [
      "{'Model': 'LabelSpreading', 'Accuracy': 0.812, 'Balanced Accuracy': 0.517621283255086, 'ROC AUC': 0.517621283255086, 'F1 Score': 0.8097413335589517, 'Time taken': 6.933230876922607}\n",
      "{'Model': 'LinearDiscriminantAnalysis', 'Accuracy': 0.8845, 'Balanced Accuracy': 0.5002503912363068, 'ROC AUC': 0.5002503912363068, 'F1 Score': 0.8340423841104874, 'Time taken': 0.1972970962524414}\n"
     ]
    },
    {
     "name": "stderr",
     "output_type": "stream",
     "text": [
      " 55%|█████▌    | 16/29 [00:29<00:23,  1.82s/it]"
     ]
    },
    {
     "name": "stdout",
     "output_type": "stream",
     "text": [
      "{'Model': 'LinearSVC', 'Accuracy': 0.8855, 'Balanced Accuracy': 0.5008137715179969, 'ROC AUC': 0.5008137715179969, 'F1 Score': 0.8345505714768118, 'Time taken': 2.858207941055298}\n",
      "{'Model': 'LogisticRegression', 'Accuracy': 0.8875, 'Balanced Accuracy': 0.5019405320813771, 'ROC AUC': 0.5019405320813771, 'F1 Score': 0.8355657984917177, 'Time taken': 0.1419200897216797}\n"
     ]
    },
    {
     "name": "stderr",
     "output_type": "stream",
     "text": [
      " 69%|██████▉   | 20/29 [00:29<00:06,  1.45it/s]"
     ]
    },
    {
     "name": "stdout",
     "output_type": "stream",
     "text": [
      "{'Model': 'NearestCentroid', 'Accuracy': 0.6195, 'Balanced Accuracy': 0.6090453834115805, 'ROC AUC': 0.6090453834115805, 'F1 Score': 0.6894736338541764, 'Time taken': 0.09484219551086426}\n",
      "NuSVC model failed to execute\n",
      "specified nu is infeasible\n",
      "{'Model': 'PassiveAggressiveClassifier', 'Accuracy': 0.8505, 'Balanced Accuracy': 0.5063223787167449, 'ROC AUC': 0.5063223787167449, 'F1 Score': 0.8248862265428105, 'Time taken': 0.07036375999450684}\n",
      "{'Model': 'Perceptron', 'Accuracy': 0.8415, 'Balanced Accuracy': 0.5090140845070422, 'ROC AUC': 0.5090140845070423, 'F1 Score': 0.8218309161707671, 'Time taken': 0.04770922660827637}\n",
      "{'Model': 'QuadraticDiscriminantAnalysis', 'Accuracy': 0.164, 'Balanced Accuracy': 0.5076682316118936, 'ROC AUC': 0.5076682316118937, 'F1 Score': 0.12942857142857145, 'Time taken': 0.09448695182800293}\n"
     ]
    },
    {
     "name": "stderr",
     "output_type": "stream",
     "text": [
      " 83%|████████▎ | 24/29 [00:31<00:02,  2.08it/s]"
     ]
    },
    {
     "name": "stdout",
     "output_type": "stream",
     "text": [
      "{'Model': 'RandomForestClassifier', 'Accuracy': 0.8875, 'Balanced Accuracy': 0.5, 'ROC AUC': 0.5, 'F1 Score': 0.8346026490066225, 'Time taken': 1.189483642578125}\n",
      "{'Model': 'RidgeClassifier', 'Accuracy': 0.887, 'Balanced Accuracy': 0.49971830985915494, 'ROC AUC': 0.49971830985915494, 'F1 Score': 0.834353471118177, 'Time taken': 0.051892757415771484}\n",
      "{'Model': 'RidgeClassifierCV', 'Accuracy': 0.887, 'Balanced Accuracy': 0.49971830985915494, 'ROC AUC': 0.49971830985915494, 'F1 Score': 0.834353471118177, 'Time taken': 0.1537470817565918}\n"
     ]
    },
    {
     "name": "stderr",
     "output_type": "stream",
     "text": [
      "\r",
      " 86%|████████▌ | 25/29 [00:31<00:01,  2.34it/s]"
     ]
    },
    {
     "name": "stdout",
     "output_type": "stream",
     "text": [
      "{'Model': 'SGDClassifier', 'Accuracy': 0.877, 'Balanced Accuracy': 0.49990610328638496, 'ROC AUC': 0.499906103286385, 'F1 Score': 0.8319275041927123, 'Time taken': 0.20046114921569824}\n"
     ]
    },
    {
     "name": "stderr",
     "output_type": "stream",
     "text": [
      "\r",
      " 90%|████████▉ | 26/29 [00:34<00:03,  1.06s/it]"
     ]
    },
    {
     "name": "stdout",
     "output_type": "stream",
     "text": [
      "{'Model': 'SVC', 'Accuracy': 0.8875, 'Balanced Accuracy': 0.5, 'ROC AUC': 0.5, 'F1 Score': 0.8346026490066225, 'Time taken': 3.3347270488739014}\n",
      "StackingClassifier model failed to execute\n",
      "__init__() missing 1 required positional argument: 'estimators'\n"
     ]
    },
    {
     "name": "stderr",
     "output_type": "stream",
     "text": [
      "\r",
      " 97%|█████████▋| 28/29 [00:36<00:00,  1.11it/s]"
     ]
    },
    {
     "name": "stdout",
     "output_type": "stream",
     "text": [
      "{'Model': 'XGBClassifier', 'Accuracy': 0.886, 'Balanced Accuracy': 0.5321439749608764, 'ROC AUC': 0.5321439749608764, 'F1 Score': 0.847966010316984, 'Time taken': 1.287501335144043}\n"
     ]
    },
    {
     "name": "stderr",
     "output_type": "stream",
     "text": [
      "100%|██████████| 29/29 [00:36<00:00,  1.25s/it]"
     ]
    },
    {
     "name": "stdout",
     "output_type": "stream",
     "text": [
      "{'Model': 'LGBMClassifier', 'Accuracy': 0.89, 'Balanced Accuracy': 0.5188732394366197, 'ROC AUC': 0.5188732394366197, 'F1 Score': 0.8441078185660229, 'Time taken': 0.2133009433746338}\n"
     ]
    },
    {
     "name": "stderr",
     "output_type": "stream",
     "text": [
      "\n"
     ]
    }
   ],
   "source": [
    "# used smaller subsets of data for quick overview results\n",
    "models, predictions = clf.fit(X_train[:10000], X_test[:2000], y_train[:10000], y_test[:2000])"
   ]
  },
  {
   "cell_type": "markdown",
   "id": "6a532c33",
   "metadata": {},
   "source": [
    "## Balancing Target Classes\n",
    "\n",
    "It is clear from Balanced Accuracy scores of around 0.5 that none of these algorithms are able to overcome the class imbalance of the target features to make accurate predictions. Almost all models are overpredicting values of 0(no delinquency). We will use SMOTE to oversample the 1(delinquent) class and retest."
   ]
  },
  {
   "cell_type": "code",
   "execution_count": 12,
   "id": "461b98ec",
   "metadata": {},
   "outputs": [
    {
     "name": "stdout",
     "output_type": "stream",
     "text": [
      "BEFORE: Counter({0: 176248, 1: 23752})\n",
      "AFTER: Counter({0: 176248, 1: 176248})\n"
     ]
    }
   ],
   "source": [
    "oversample = SMOTE()\n",
    "print(\"BEFORE:\", Counter(y))\n",
    "X, y = oversample.fit_resample(X, y)\n",
    "print(\"AFTER:\", Counter(y))\n",
    "X_train, X_test, y_train, y_test = train_test_split(X, y, test_size = 0.2)"
   ]
  },
  {
   "cell_type": "markdown",
   "id": "169841ef",
   "metadata": {},
   "source": [
    "### Benchmark - Logistic Regression"
   ]
  },
  {
   "cell_type": "code",
   "execution_count": 13,
   "id": "0a453ecc",
   "metadata": {},
   "outputs": [
    {
     "name": "stdout",
     "output_type": "stream",
     "text": [
      "[[23172 12008]\n",
      " [11348 23972]]\n",
      "              precision    recall  f1-score   support\n",
      "\n",
      "           0       0.67      0.66      0.66     35180\n",
      "           1       0.67      0.68      0.67     35320\n",
      "\n",
      "    accuracy                           0.67     70500\n",
      "   macro avg       0.67      0.67      0.67     70500\n",
      "weighted avg       0.67      0.67      0.67     70500\n",
      "\n"
     ]
    }
   ],
   "source": [
    "reg = LogisticRegression(max_iter = 5000)\n",
    "reg.fit(X_train, y_train)\n",
    "y_pred = reg.predict(X_test)\n",
    "y_pred_labels = (y_pred > 0.5).astype(int)\n",
    "print(confusion_matrix(y_test, y_pred_labels))\n",
    "print(classification_report(y_test, y_pred_labels))"
   ]
  },
  {
   "cell_type": "markdown",
   "id": "f43cf5bd",
   "metadata": {},
   "source": [
    "### Other Algorithms"
   ]
  },
  {
   "cell_type": "code",
   "execution_count": 14,
   "id": "fb20b039",
   "metadata": {},
   "outputs": [],
   "source": [
    "clf = LazyClassifier(verbose = 2, ignore_warnings = False, custom_metric = None)"
   ]
  },
  {
   "cell_type": "code",
   "execution_count": 15,
   "id": "7b4319ab",
   "metadata": {
    "scrolled": true
   },
   "outputs": [
    {
     "name": "stderr",
     "output_type": "stream",
     "text": [
      "  3%|▎         | 1/29 [00:00<00:25,  1.10it/s]"
     ]
    },
    {
     "name": "stdout",
     "output_type": "stream",
     "text": [
      "{'Model': 'AdaBoostClassifier', 'Accuracy': 0.7675, 'Balanced Accuracy': 0.7674424069816628, 'ROC AUC': 0.7674424069816629, 'F1 Score': 0.7674074803577954, 'Time taken': 0.9126555919647217}\n"
     ]
    },
    {
     "name": "stderr",
     "output_type": "stream",
     "text": [
      "\r",
      "  7%|▋         | 2/29 [00:01<00:26,  1.03it/s]"
     ]
    },
    {
     "name": "stdout",
     "output_type": "stream",
     "text": [
      "{'Model': 'BaggingClassifier', 'Accuracy': 0.818, 'Balanced Accuracy': 0.818259364334279, 'ROC AUC': 0.8182593643342791, 'F1 Score': 0.8166604924346186, 'Time taken': 0.995002031326294}\n",
      "{'Model': 'BernoulliNB', 'Accuracy': 0.6305, 'Balanced Accuracy': 0.6304261738355645, 'ROC AUC': 0.6304261738355644, 'F1 Score': 0.6302697321694158, 'Time taken': 0.06310081481933594}\n"
     ]
    },
    {
     "name": "stderr",
     "output_type": "stream",
     "text": [
      "\r",
      " 14%|█▍        | 4/29 [00:11<01:24,  3.36s/it]"
     ]
    },
    {
     "name": "stdout",
     "output_type": "stream",
     "text": [
      "{'Model': 'CalibratedClassifierCV', 'Accuracy': 0.6625, 'Balanced Accuracy': 0.6623964615681541, 'ROC AUC': 0.6623964615681541, 'F1 Score': 0.6620867713511325, 'Time taken': 9.513684272766113}\n",
      "CategoricalNB model failed to execute\n",
      "Negative values in data passed to CategoricalNB (input X)\n"
     ]
    },
    {
     "name": "stderr",
     "output_type": "stream",
     "text": [
      "\r",
      " 21%|██        | 6/29 [00:11<00:41,  1.82s/it]"
     ]
    },
    {
     "name": "stdout",
     "output_type": "stream",
     "text": [
      "{'Model': 'DecisionTreeClassifier', 'Accuracy': 0.744, 'Balanced Accuracy': 0.7439796958172624, 'ROC AUC': 0.7439796958172623, 'F1 Score': 0.7439861748801652, 'Time taken': 0.16091513633728027}\n",
      "{'Model': 'DummyClassifier', 'Accuracy': 0.5015, 'Balanced Accuracy': 0.5, 'ROC AUC': 0.5, 'F1 Score': 0.3350013320013319, 'Time taken': 0.044727325439453125}\n",
      "{'Model': 'ExtraTreeClassifier', 'Accuracy': 0.6225, 'Balanced Accuracy': 0.6224771022939206, 'ROC AUC': 0.6224771022939206, 'F1 Score': 0.6224766872710261, 'Time taken': 0.047269344329833984}\n"
     ]
    },
    {
     "name": "stderr",
     "output_type": "stream",
     "text": [
      "\r",
      " 31%|███       | 9/29 [00:13<00:23,  1.17s/it]"
     ]
    },
    {
     "name": "stdout",
     "output_type": "stream",
     "text": [
      "{'Model': 'ExtraTreesClassifier', 'Accuracy': 0.7635, 'Balanced Accuracy': 0.7634933714403429, 'ROC AUC': 0.763493371440343, 'F1 Score': 0.7634984035926727, 'Time taken': 1.4868156909942627}\n",
      "{'Model': 'GaussianNB', 'Accuracy': 0.5325, 'Balanced Accuracy': 0.53123428110853, 'ROC AUC': 0.53123428110853, 'F1 Score': 0.4310518230873112, 'Time taken': 0.049071550369262695}\n"
     ]
    },
    {
     "name": "stderr",
     "output_type": "stream",
     "text": [
      "\r",
      " 38%|███▊      | 11/29 [00:13<00:14,  1.21it/s]"
     ]
    },
    {
     "name": "stdout",
     "output_type": "stream",
     "text": [
      "{'Model': 'KNeighborsClassifier', 'Accuracy': 0.604, 'Balanced Accuracy': 0.6037084333759004, 'ROC AUC': 0.6037084333759004, 'F1 Score': 0.600199164006427, 'Time taken': 0.1663525104522705}\n"
     ]
    },
    {
     "name": "stderr",
     "output_type": "stream",
     "text": [
      "\r",
      " 41%|████▏     | 12/29 [00:19<00:31,  1.85s/it]"
     ]
    },
    {
     "name": "stdout",
     "output_type": "stream",
     "text": [
      "{'Model': 'LabelPropagation', 'Accuracy': 0.616, 'Balanced Accuracy': 0.615876542888886, 'ROC AUC': 0.615876542888886, 'F1 Score': 0.6153382965102473, 'Time taken': 6.277955532073975}\n"
     ]
    },
    {
     "name": "stderr",
     "output_type": "stream",
     "text": [
      "\r",
      " 45%|████▍     | 13/29 [00:26<00:47,  2.95s/it]"
     ]
    },
    {
     "name": "stdout",
     "output_type": "stream",
     "text": [
      "{'Model': 'LabelSpreading', 'Accuracy': 0.616, 'Balanced Accuracy': 0.615876542888886, 'ROC AUC': 0.615876542888886, 'F1 Score': 0.6153382965102473, 'Time taken': 7.020371437072754}\n"
     ]
    },
    {
     "name": "stderr",
     "output_type": "stream",
     "text": [
      "\r",
      " 48%|████▊     | 14/29 [00:27<00:34,  2.31s/it]"
     ]
    },
    {
     "name": "stdout",
     "output_type": "stream",
     "text": [
      "{'Model': 'LinearDiscriminantAnalysis', 'Accuracy': 0.662, 'Balanced Accuracy': 0.6618919570276133, 'ROC AUC': 0.6618919570276133, 'F1 Score': 0.6615498099255324, 'Time taken': 0.2070324420928955}\n"
     ]
    },
    {
     "name": "stderr",
     "output_type": "stream",
     "text": [
      " 59%|█████▊    | 17/29 [00:30<00:17,  1.49s/it]"
     ]
    },
    {
     "name": "stdout",
     "output_type": "stream",
     "text": [
      "{'Model': 'LinearSVC', 'Accuracy': 0.6575, 'Balanced Accuracy': 0.6574114167027503, 'ROC AUC': 0.6574114167027503, 'F1 Score': 0.6571922152255577, 'Time taken': 2.972757577896118}\n",
      "{'Model': 'LogisticRegression', 'Accuracy': 0.6645, 'Balanced Accuracy': 0.6643904795143156, 'ROC AUC': 0.6643904795143156, 'F1 Score': 0.6640407746882817, 'Time taken': 0.09753012657165527}\n",
      "{'Model': 'NearestCentroid', 'Accuracy': 0.64, 'Balanced Accuracy': 0.6398497586478278, 'ROC AUC': 0.6398497586478278, 'F1 Score': 0.6390802329498966, 'Time taken': 0.09695625305175781}\n"
     ]
    },
    {
     "name": "stderr",
     "output_type": "stream",
     "text": [
      " 69%|██████▉   | 20/29 [00:37<00:14,  1.66s/it]"
     ]
    },
    {
     "name": "stdout",
     "output_type": "stream",
     "text": [
      "{'Model': 'NuSVC', 'Accuracy': 0.6825, 'Balanced Accuracy': 0.6824146417317756, 'ROC AUC': 0.6824146417317756, 'F1 Score': 0.6822334489158539, 'Time taken': 6.818224906921387}\n",
      "{'Model': 'PassiveAggressiveClassifier', 'Accuracy': 0.591, 'Balanced Accuracy': 0.5907743169688526, 'ROC AUC': 0.5907743169688526, 'F1 Score': 0.5886556181600711, 'Time taken': 0.06315016746520996}\n",
      "{'Model': 'Perceptron', 'Accuracy': 0.5845, 'Balanced Accuracy': 0.5844107596968373, 'ROC AUC': 0.5844107596968373, 'F1 Score': 0.5841266143831216, 'Time taken': 0.06304740905761719}\n",
      "{'Model': 'QuadraticDiscriminantAnalysis', 'Accuracy': 0.519, 'Balanced Accuracy': 0.5178856609709488, 'ROC AUC': 0.5178856609709487, 'F1 Score': 0.4418887835691991, 'Time taken': 0.08397507667541504}\n"
     ]
    },
    {
     "name": "stderr",
     "output_type": "stream",
     "text": [
      "\r",
      " 76%|███████▌  | 22/29 [00:38<00:09,  1.38s/it]"
     ]
    },
    {
     "name": "stdout",
     "output_type": "stream",
     "text": [
      "{'Model': 'RandomForestClassifier', 'Accuracy': 0.8105, 'Balanced Accuracy': 0.8106257956321608, 'ROC AUC': 0.8106257956321606, 'F1 Score': 0.8101813797477514, 'Time taken': 1.697622537612915}\n",
      "{'Model': 'RidgeClassifier', 'Accuracy': 0.6605, 'Balanced Accuracy': 0.6603904435139916, 'ROC AUC': 0.6603904435139917, 'F1 Score': 0.6600352995727917, 'Time taken': 0.051517486572265625}\n"
     ]
    },
    {
     "name": "stderr",
     "output_type": "stream",
     "text": [
      "\r",
      " 83%|████████▎ | 24/29 [00:39<00:04,  1.06it/s]"
     ]
    },
    {
     "name": "stdout",
     "output_type": "stream",
     "text": [
      "{'Model': 'RidgeClassifierCV', 'Accuracy': 0.6605, 'Balanced Accuracy': 0.6603904435139916, 'ROC AUC': 0.6603904435139917, 'F1 Score': 0.6600352995727917, 'Time taken': 0.1540372371673584}\n"
     ]
    },
    {
     "name": "stderr",
     "output_type": "stream",
     "text": [
      "\r",
      " 86%|████████▌ | 25/29 [00:39<00:03,  1.24it/s]"
     ]
    },
    {
     "name": "stdout",
     "output_type": "stream",
     "text": [
      "{'Model': 'SGDClassifier', 'Accuracy': 0.643, 'Balanced Accuracy': 0.6428467856210707, 'ROC AUC': 0.6428467856210706, 'F1 Score': 0.6420512850597327, 'Time taken': 0.23663330078125}\n"
     ]
    },
    {
     "name": "stderr",
     "output_type": "stream",
     "text": [
      "\r",
      " 90%|████████▉ | 26/29 [00:44<00:05,  1.83s/it]"
     ]
    },
    {
     "name": "stdout",
     "output_type": "stream",
     "text": [
      "{'Model': 'SVC', 'Accuracy': 0.686, 'Balanced Accuracy': 0.6859131732185589, 'ROC AUC': 0.6859131732185589, 'F1 Score': 0.6857271858255783, 'Time taken': 5.473434209823608}\n",
      "StackingClassifier model failed to execute\n",
      "__init__() missing 1 required positional argument: 'estimators'\n"
     ]
    },
    {
     "name": "stderr",
     "output_type": "stream",
     "text": [
      "\r",
      " 97%|█████████▋| 28/29 [00:45<00:01,  1.25s/it]"
     ]
    },
    {
     "name": "stdout",
     "output_type": "stream",
     "text": [
      "{'Model': 'XGBClassifier', 'Accuracy': 0.9135, 'Balanced Accuracy': 0.9136657229915068, 'ROC AUC': 0.913665722991507, 'F1 Score': 0.9132472640214591, 'Time taken': 0.6353204250335693}\n"
     ]
    },
    {
     "name": "stderr",
     "output_type": "stream",
     "text": [
      "100%|██████████| 29/29 [00:45<00:00,  1.58s/it]"
     ]
    },
    {
     "name": "stdout",
     "output_type": "stream",
     "text": [
      "{'Model': 'LGBMClassifier', 'Accuracy': 0.908, 'Balanced Accuracy': 0.9081821736395628, 'ROC AUC': 0.9081821736395628, 'F1 Score': 0.9076734053355487, 'Time taken': 0.2473006248474121}\n"
     ]
    },
    {
     "name": "stderr",
     "output_type": "stream",
     "text": [
      "\n"
     ]
    }
   ],
   "source": [
    "# used smaller subsets of data for quick overview results\n",
    "models, predictions = clf.fit(X_train[:10000], X_test[:2000], y_train[:10000], y_test[:2000])"
   ]
  },
  {
   "cell_type": "markdown",
   "id": "6ca6fab6",
   "metadata": {},
   "source": [
    "### XGBoost"
   ]
  },
  {
   "cell_type": "markdown",
   "id": "15c4e1bd",
   "metadata": {},
   "source": [
    "Sample Predictions"
   ]
  },
  {
   "cell_type": "code",
   "execution_count": 16,
   "id": "8ef54406",
   "metadata": {},
   "outputs": [
    {
     "name": "stdout",
     "output_type": "stream",
     "text": [
      "[[33785  1395]\n",
      " [ 5711 29609]]\n",
      "              precision    recall  f1-score   support\n",
      "\n",
      "           0       0.86      0.96      0.90     35180\n",
      "           1       0.96      0.84      0.89     35320\n",
      "\n",
      "    accuracy                           0.90     70500\n",
      "   macro avg       0.91      0.90      0.90     70500\n",
      "weighted avg       0.91      0.90      0.90     70500\n",
      "\n"
     ]
    }
   ],
   "source": [
    "dmatrix = xgb.DMatrix(X_train, label=y_train)\n",
    "params = {\"objective\": \"reg:logistic\", \"max_depth\": 10}\n",
    "xgb_model = xgb.train(params, dmatrix)\n",
    "y_pred = xgb_model.predict(xgb.DMatrix(X_test))\n",
    "y_pred_labels = (y_pred > 0.5).astype(int)\n",
    "print(confusion_matrix(y_test, y_pred_labels))\n",
    "print(classification_report(y_test, y_pred_labels))"
   ]
  },
  {
   "cell_type": "markdown",
   "id": "62676b09",
   "metadata": {},
   "source": [
    "Cross Validation For More Relibale Assessment of Model Prediction"
   ]
  },
  {
   "cell_type": "code",
   "execution_count": 17,
   "id": "e517b35f",
   "metadata": {},
   "outputs": [
    {
     "data": {
      "text/html": [
       "<div>\n",
       "<style scoped>\n",
       "    .dataframe tbody tr th:only-of-type {\n",
       "        vertical-align: middle;\n",
       "    }\n",
       "\n",
       "    .dataframe tbody tr th {\n",
       "        vertical-align: top;\n",
       "    }\n",
       "\n",
       "    .dataframe thead th {\n",
       "        text-align: right;\n",
       "    }\n",
       "</style>\n",
       "<table border=\"1\" class=\"dataframe\">\n",
       "  <thead>\n",
       "    <tr style=\"text-align: right;\">\n",
       "      <th></th>\n",
       "      <th>train-logloss-mean</th>\n",
       "      <th>train-logloss-std</th>\n",
       "      <th>train-auc-mean</th>\n",
       "      <th>train-auc-std</th>\n",
       "      <th>test-logloss-mean</th>\n",
       "      <th>test-logloss-std</th>\n",
       "      <th>test-auc-mean</th>\n",
       "      <th>test-auc-std</th>\n",
       "    </tr>\n",
       "  </thead>\n",
       "  <tbody>\n",
       "    <tr>\n",
       "      <th>0</th>\n",
       "      <td>0.61</td>\n",
       "      <td>0.00</td>\n",
       "      <td>0.83</td>\n",
       "      <td>0.00</td>\n",
       "      <td>0.61</td>\n",
       "      <td>0.00</td>\n",
       "      <td>0.83</td>\n",
       "      <td>0.00</td>\n",
       "    </tr>\n",
       "    <tr>\n",
       "      <th>1</th>\n",
       "      <td>0.55</td>\n",
       "      <td>0.00</td>\n",
       "      <td>0.88</td>\n",
       "      <td>0.00</td>\n",
       "      <td>0.55</td>\n",
       "      <td>0.00</td>\n",
       "      <td>0.87</td>\n",
       "      <td>0.00</td>\n",
       "    </tr>\n",
       "    <tr>\n",
       "      <th>2</th>\n",
       "      <td>0.49</td>\n",
       "      <td>0.01</td>\n",
       "      <td>0.91</td>\n",
       "      <td>0.01</td>\n",
       "      <td>0.50</td>\n",
       "      <td>0.01</td>\n",
       "      <td>0.90</td>\n",
       "      <td>0.00</td>\n",
       "    </tr>\n",
       "    <tr>\n",
       "      <th>3</th>\n",
       "      <td>0.45</td>\n",
       "      <td>0.01</td>\n",
       "      <td>0.92</td>\n",
       "      <td>0.00</td>\n",
       "      <td>0.45</td>\n",
       "      <td>0.01</td>\n",
       "      <td>0.92</td>\n",
       "      <td>0.00</td>\n",
       "    </tr>\n",
       "    <tr>\n",
       "      <th>4</th>\n",
       "      <td>0.41</td>\n",
       "      <td>0.01</td>\n",
       "      <td>0.93</td>\n",
       "      <td>0.00</td>\n",
       "      <td>0.42</td>\n",
       "      <td>0.01</td>\n",
       "      <td>0.93</td>\n",
       "      <td>0.00</td>\n",
       "    </tr>\n",
       "    <tr>\n",
       "      <th>5</th>\n",
       "      <td>0.38</td>\n",
       "      <td>0.01</td>\n",
       "      <td>0.94</td>\n",
       "      <td>0.00</td>\n",
       "      <td>0.39</td>\n",
       "      <td>0.01</td>\n",
       "      <td>0.93</td>\n",
       "      <td>0.00</td>\n",
       "    </tr>\n",
       "    <tr>\n",
       "      <th>6</th>\n",
       "      <td>0.36</td>\n",
       "      <td>0.01</td>\n",
       "      <td>0.95</td>\n",
       "      <td>0.00</td>\n",
       "      <td>0.37</td>\n",
       "      <td>0.01</td>\n",
       "      <td>0.94</td>\n",
       "      <td>0.00</td>\n",
       "    </tr>\n",
       "    <tr>\n",
       "      <th>7</th>\n",
       "      <td>0.34</td>\n",
       "      <td>0.00</td>\n",
       "      <td>0.95</td>\n",
       "      <td>0.00</td>\n",
       "      <td>0.35</td>\n",
       "      <td>0.00</td>\n",
       "      <td>0.94</td>\n",
       "      <td>0.00</td>\n",
       "    </tr>\n",
       "    <tr>\n",
       "      <th>8</th>\n",
       "      <td>0.32</td>\n",
       "      <td>0.00</td>\n",
       "      <td>0.95</td>\n",
       "      <td>0.00</td>\n",
       "      <td>0.33</td>\n",
       "      <td>0.00</td>\n",
       "      <td>0.95</td>\n",
       "      <td>0.00</td>\n",
       "    </tr>\n",
       "    <tr>\n",
       "      <th>9</th>\n",
       "      <td>0.30</td>\n",
       "      <td>0.00</td>\n",
       "      <td>0.96</td>\n",
       "      <td>0.00</td>\n",
       "      <td>0.32</td>\n",
       "      <td>0.00</td>\n",
       "      <td>0.95</td>\n",
       "      <td>0.00</td>\n",
       "    </tr>\n",
       "  </tbody>\n",
       "</table>\n",
       "</div>"
      ],
      "text/plain": [
       "   train-logloss-mean  train-logloss-std  train-auc-mean  train-auc-std  \\\n",
       "0                0.61               0.00            0.83           0.00   \n",
       "1                0.55               0.00            0.88           0.00   \n",
       "2                0.49               0.01            0.91           0.01   \n",
       "3                0.45               0.01            0.92           0.00   \n",
       "4                0.41               0.01            0.93           0.00   \n",
       "5                0.38               0.01            0.94           0.00   \n",
       "6                0.36               0.01            0.95           0.00   \n",
       "7                0.34               0.00            0.95           0.00   \n",
       "8                0.32               0.00            0.95           0.00   \n",
       "9                0.30               0.00            0.96           0.00   \n",
       "\n",
       "   test-logloss-mean  test-logloss-std  test-auc-mean  test-auc-std  \n",
       "0               0.61              0.00           0.83          0.00  \n",
       "1               0.55              0.00           0.87          0.00  \n",
       "2               0.50              0.01           0.90          0.00  \n",
       "3               0.45              0.01           0.92          0.00  \n",
       "4               0.42              0.01           0.93          0.00  \n",
       "5               0.39              0.01           0.93          0.00  \n",
       "6               0.37              0.01           0.94          0.00  \n",
       "7               0.35              0.00           0.94          0.00  \n",
       "8               0.33              0.00           0.95          0.00  \n",
       "9               0.32              0.00           0.95          0.00  "
      ]
     },
     "execution_count": 17,
     "metadata": {},
     "output_type": "execute_result"
    }
   ],
   "source": [
    "cv_results = xgb.cv(params, dmatrix, 10, nfold = 3, metrics = [\"logloss\", \"auc\"], as_pandas = True, seed = 123)\n",
    "cv_results"
   ]
  },
  {
   "cell_type": "markdown",
   "id": "3741b348",
   "metadata": {},
   "source": [
    "### LGBM"
   ]
  },
  {
   "cell_type": "markdown",
   "id": "7718ba0f",
   "metadata": {},
   "source": [
    "Sample Predictions"
   ]
  },
  {
   "cell_type": "code",
   "execution_count": 18,
   "id": "485915e9",
   "metadata": {
    "scrolled": false
   },
   "outputs": [
    {
     "name": "stdout",
     "output_type": "stream",
     "text": [
      "[LightGBM] [Warning] Auto-choosing row-wise multi-threading, the overhead of testing was 0.034999 seconds.\n",
      "You can set `force_row_wise=true` to remove the overhead.\n",
      "And if memory is not enough, you can set `force_col_wise=true`.\n",
      "[[35022   158]\n",
      " [ 5010 30310]]\n",
      "              precision    recall  f1-score   support\n",
      "\n",
      "           0       0.87      1.00      0.93     35180\n",
      "           1       0.99      0.86      0.92     35320\n",
      "\n",
      "    accuracy                           0.93     70500\n",
      "   macro avg       0.93      0.93      0.93     70500\n",
      "weighted avg       0.93      0.93      0.93     70500\n",
      "\n"
     ]
    }
   ],
   "source": [
    "train_data = lgb.Dataset(X_train, label = y_train)\n",
    "params = {\n",
    "    'objective': 'binary',\n",
    "    'metric': 'auc',\n",
    "    'verbose': 0\n",
    "}\n",
    "model = lgb.train(params, train_data, num_boost_round = 100)\n",
    "y_pred = model.predict(X_test)\n",
    "y_pred_labels = (y_pred > 0.5).astype(int)\n",
    "print(confusion_matrix(y_test, y_pred_labels))\n",
    "print(classification_report(y_test, y_pred_labels))"
   ]
  },
  {
   "cell_type": "markdown",
   "id": "5db47a1e",
   "metadata": {},
   "source": [
    "Cross Validation"
   ]
  },
  {
   "cell_type": "code",
   "execution_count": 19,
   "id": "e79e532c",
   "metadata": {},
   "outputs": [
    {
     "name": "stdout",
     "output_type": "stream",
     "text": [
      "[LightGBM] [Warning] Auto-choosing row-wise multi-threading, the overhead of testing was 0.016328 seconds.\n",
      "You can set `force_row_wise=true` to remove the overhead.\n",
      "And if memory is not enough, you can set `force_col_wise=true`.\n",
      "[LightGBM] [Warning] Auto-choosing row-wise multi-threading, the overhead of testing was 0.018080 seconds.\n",
      "You can set `force_row_wise=true` to remove the overhead.\n",
      "And if memory is not enough, you can set `force_col_wise=true`.\n",
      "[LightGBM] [Warning] Auto-choosing row-wise multi-threading, the overhead of testing was 0.017626 seconds.\n",
      "You can set `force_row_wise=true` to remove the overhead.\n",
      "And if memory is not enough, you can set `force_col_wise=true`.\n",
      "[LightGBM] [Warning] Auto-choosing row-wise multi-threading, the overhead of testing was 0.027699 seconds.\n",
      "You can set `force_row_wise=true` to remove the overhead.\n",
      "And if memory is not enough, you can set `force_col_wise=true`.\n",
      "[LightGBM] [Warning] Auto-choosing row-wise multi-threading, the overhead of testing was 0.027675 seconds.\n",
      "You can set `force_row_wise=true` to remove the overhead.\n",
      "And if memory is not enough, you can set `force_col_wise=true`.\n"
     ]
    },
    {
     "data": {
      "text/plain": [
       "{'auc-mean': [0.7867609966344674,\n",
       "  0.8164456295930067,\n",
       "  0.8284801082102644,\n",
       "  0.8406737579583019,\n",
       "  0.8510652391623893,\n",
       "  0.8610338010391135,\n",
       "  0.8700888537447033,\n",
       "  0.880242972846007,\n",
       "  0.8895046557485047,\n",
       "  0.8964469372042088,\n",
       "  0.9032657978661321,\n",
       "  0.9120911659040052,\n",
       "  0.9156435859382988,\n",
       "  0.9213939974405374,\n",
       "  0.9252405882889215,\n",
       "  0.9288720710279577,\n",
       "  0.9328242316895402,\n",
       "  0.9353369179491372,\n",
       "  0.9381244675169593,\n",
       "  0.9400979169676196,\n",
       "  0.9415653423832022,\n",
       "  0.9427461933677236,\n",
       "  0.9441348080526458,\n",
       "  0.944828525007457,\n",
       "  0.9461257028971211,\n",
       "  0.9472033529959146,\n",
       "  0.9479994144927026,\n",
       "  0.9487477622169574,\n",
       "  0.9493121854935203,\n",
       "  0.949834335638338,\n",
       "  0.9503268834435852,\n",
       "  0.9508624230320561,\n",
       "  0.951340300321796,\n",
       "  0.9516544170918291,\n",
       "  0.9519899726038451,\n",
       "  0.9522194646591522,\n",
       "  0.9525053753742772,\n",
       "  0.9527520221267283,\n",
       "  0.9530011027542196,\n",
       "  0.9531952632214618,\n",
       "  0.9534115418874866,\n",
       "  0.9536201049617731,\n",
       "  0.9538167707188798,\n",
       "  0.9539523203223957,\n",
       "  0.9541542765415564,\n",
       "  0.9543178208410694,\n",
       "  0.9544714155301209,\n",
       "  0.954615419795131,\n",
       "  0.9547885467974027,\n",
       "  0.9549477783238187,\n",
       "  0.9550916024927825,\n",
       "  0.9552139220954678,\n",
       "  0.9553205706163901,\n",
       "  0.9554308307627742,\n",
       "  0.9555327573945075,\n",
       "  0.9556279515962492,\n",
       "  0.9556715447335649,\n",
       "  0.9557497320106902,\n",
       "  0.9558559267793385,\n",
       "  0.955916872339662,\n",
       "  0.9560039235892152,\n",
       "  0.9560903366286737,\n",
       "  0.9561769301979464,\n",
       "  0.9562660604921474,\n",
       "  0.9563535432576853,\n",
       "  0.9564045156466314,\n",
       "  0.9564688360078122,\n",
       "  0.9565267208312737,\n",
       "  0.9565740680806909,\n",
       "  0.9566760909220593,\n",
       "  0.956749234981569,\n",
       "  0.9568131887082023,\n",
       "  0.956875310635875,\n",
       "  0.956932254593364,\n",
       "  0.9569716881702892,\n",
       "  0.9570167228795559,\n",
       "  0.9570691788083892,\n",
       "  0.9571138156753655,\n",
       "  0.9571588996681479,\n",
       "  0.9572196788603365,\n",
       "  0.9572647192556645,\n",
       "  0.957305067109726,\n",
       "  0.957335715804132,\n",
       "  0.9573779220922282,\n",
       "  0.9574284536740596,\n",
       "  0.957458309118951,\n",
       "  0.9574927856309289,\n",
       "  0.9575286442983402,\n",
       "  0.9575725182025032,\n",
       "  0.9576115649295657,\n",
       "  0.9576488322644503,\n",
       "  0.9576794268749564,\n",
       "  0.9577062565733877,\n",
       "  0.9577325948031591,\n",
       "  0.9577564332517525,\n",
       "  0.9577839952513132,\n",
       "  0.9578228018810571,\n",
       "  0.9578476259007506,\n",
       "  0.9578775976345376,\n",
       "  0.9579017226001311],\n",
       " 'auc-stdv': [0.00212343688352188,\n",
       "  0.019182339079635582,\n",
       "  0.011157368847295436,\n",
       "  0.006836827391282398,\n",
       "  0.006762639991744488,\n",
       "  0.005268088014824829,\n",
       "  0.005769219906094646,\n",
       "  0.007264695806660275,\n",
       "  0.007513119071103593,\n",
       "  0.00809702730526809,\n",
       "  0.005296046445046194,\n",
       "  0.004483443902193847,\n",
       "  0.004274473475574041,\n",
       "  0.0022416995455344056,\n",
       "  0.0017038547862262086,\n",
       "  0.0016482333608458988,\n",
       "  0.0017767037669108284,\n",
       "  0.0012027108989466045,\n",
       "  0.0008671984179184933,\n",
       "  0.0010733663812901367,\n",
       "  0.0008027154099988569,\n",
       "  0.0008437916303387278,\n",
       "  0.0011004361931261299,\n",
       "  0.0011473911052837947,\n",
       "  0.0005644854167082878,\n",
       "  0.000713175990155929,\n",
       "  0.0006741692311202533,\n",
       "  0.000552796187854551,\n",
       "  0.0004930449188379586,\n",
       "  0.00043085263116518426,\n",
       "  0.00041043165084767946,\n",
       "  0.00025930409939644607,\n",
       "  0.0003166568161480731,\n",
       "  0.0003097775636996566,\n",
       "  0.00025031086020058574,\n",
       "  0.00027008265209503665,\n",
       "  0.0002599638524045621,\n",
       "  0.0003039764886968568,\n",
       "  0.00031959130994647185,\n",
       "  0.0004148233756146238,\n",
       "  0.0003947262919145943,\n",
       "  0.00040287552728532805,\n",
       "  0.00041046555370178017,\n",
       "  0.00041211968803470285,\n",
       "  0.00040756316767252636,\n",
       "  0.0004045670274270902,\n",
       "  0.000380734526958627,\n",
       "  0.0004000535129516331,\n",
       "  0.00039559856537388745,\n",
       "  0.0003934345652209509,\n",
       "  0.00043112419329102773,\n",
       "  0.00044460696612372,\n",
       "  0.00043590932194881977,\n",
       "  0.00043467287182165425,\n",
       "  0.000420600262980211,\n",
       "  0.00041810243676729996,\n",
       "  0.00039912061553226225,\n",
       "  0.00039333215997987183,\n",
       "  0.0004318013225981738,\n",
       "  0.00044424351508433676,\n",
       "  0.00044829900244628773,\n",
       "  0.00044297320774160066,\n",
       "  0.00042516324454347737,\n",
       "  0.00044541982614635495,\n",
       "  0.00042344910558574767,\n",
       "  0.0004153672871908715,\n",
       "  0.00040613216407400966,\n",
       "  0.00038839960114616826,\n",
       "  0.000394423663990737,\n",
       "  0.00039786389341506056,\n",
       "  0.0004004685477768299,\n",
       "  0.0003978957225792862,\n",
       "  0.0003959190910405469,\n",
       "  0.0003906441991857143,\n",
       "  0.000384548364520463,\n",
       "  0.0003944771654013104,\n",
       "  0.0003675715620286582,\n",
       "  0.0003952205494611992,\n",
       "  0.0003935110837971504,\n",
       "  0.00038514854099087756,\n",
       "  0.00038438031178485437,\n",
       "  0.00037892756735959576,\n",
       "  0.00037534918494312047,\n",
       "  0.0003693945142743251,\n",
       "  0.0003663487054336926,\n",
       "  0.00036777841437006954,\n",
       "  0.000370914167653821,\n",
       "  0.00036098241764381535,\n",
       "  0.0003481675248401013,\n",
       "  0.0003580166937306446,\n",
       "  0.0003442095432493819,\n",
       "  0.0003353551967453613,\n",
       "  0.0003316106905194311,\n",
       "  0.00033683880516363455,\n",
       "  0.0003347950385792753,\n",
       "  0.00033646409205293247,\n",
       "  0.00035311072741581884,\n",
       "  0.00034885595037688474,\n",
       "  0.00034661497099451393,\n",
       "  0.00034317825027277703]}"
      ]
     },
     "execution_count": 19,
     "metadata": {},
     "output_type": "execute_result"
    }
   ],
   "source": [
    "cv_results = lgb.cv(params, train_data, num_boost_round = 100, nfold = 5, stratified = True, seed = 42)\n",
    "cv_results"
   ]
  },
  {
   "cell_type": "markdown",
   "id": "a45f7a5a",
   "metadata": {},
   "source": [
    "### Fine Tuning LGBM With Grid Search"
   ]
  },
  {
   "cell_type": "code",
   "execution_count": 20,
   "id": "a78848d3",
   "metadata": {},
   "outputs": [],
   "source": [
    "train_data = lgb.Dataset(X_train, label = y_train)\n",
    "param_grid = {\n",
    "    'objective': ['binary'],\n",
    "    'metric': ['auc'],\n",
    "    'max_depth': [2, 4, 8],\n",
    "    'learning_rate': [0.1, 0.01],\n",
    "    'n_estimators': [100, 200],\n",
    "    'bagging_freq': [0, 1] #,\n",
    "    # 'l1': [0.01, 0.05, 0.1],\n",
    "    # 'l2': [0.01, 0.05, 0.1],\n",
    "}\n",
    "model = lgb.LGBMClassifier()"
   ]
  },
  {
   "cell_type": "code",
   "execution_count": 21,
   "id": "23215b73",
   "metadata": {
    "scrolled": true
   },
   "outputs": [
    {
     "name": "stdout",
     "output_type": "stream",
     "text": [
      "Fitting 5 folds for each of 24 candidates, totalling 120 fits\n",
      "[LightGBM] [Warning] bagging_freq is set=0, subsample_freq=0 will be ignored. Current value: bagging_freq=0\n",
      "[1]\tvalid_0's auc: 0.778971\n",
      "[2]\tvalid_0's auc: 0.787959\n",
      "[3]\tvalid_0's auc: 0.818138\n",
      "[4]\tvalid_0's auc: 0.832438\n",
      "[5]\tvalid_0's auc: 0.84124\n",
      "[6]\tvalid_0's auc: 0.852437\n",
      "[7]\tvalid_0's auc: 0.857025\n",
      "[8]\tvalid_0's auc: 0.865944\n",
      "[9]\tvalid_0's auc: 0.872054\n",
      "[10]\tvalid_0's auc: 0.882018\n",
      "[11]\tvalid_0's auc: 0.886603\n",
      "[12]\tvalid_0's auc: 0.893237\n",
      "[13]\tvalid_0's auc: 0.901037\n",
      "[14]\tvalid_0's auc: 0.905297\n",
      "[15]\tvalid_0's auc: 0.908146\n",
      "[16]\tvalid_0's auc: 0.912275\n",
      "[17]\tvalid_0's auc: 0.91465\n",
      "[18]\tvalid_0's auc: 0.920103\n",
      "[19]\tvalid_0's auc: 0.922778\n",
      "[20]\tvalid_0's auc: 0.924262\n",
      "[21]\tvalid_0's auc: 0.926008\n",
      "[22]\tvalid_0's auc: 0.927369\n",
      "[23]\tvalid_0's auc: 0.928819\n",
      "[24]\tvalid_0's auc: 0.931022\n",
      "[25]\tvalid_0's auc: 0.933373\n",
      "[26]\tvalid_0's auc: 0.935579\n",
      "[27]\tvalid_0's auc: 0.936875\n",
      "[28]\tvalid_0's auc: 0.938132\n",
      "[29]\tvalid_0's auc: 0.939058\n",
      "[30]\tvalid_0's auc: 0.940236\n",
      "[31]\tvalid_0's auc: 0.941051\n",
      "[32]\tvalid_0's auc: 0.941725\n",
      "[33]\tvalid_0's auc: 0.942512\n",
      "[34]\tvalid_0's auc: 0.942969\n",
      "[35]\tvalid_0's auc: 0.945325\n",
      "[36]\tvalid_0's auc: 0.945734\n",
      "[37]\tvalid_0's auc: 0.946606\n",
      "[38]\tvalid_0's auc: 0.946939\n",
      "[39]\tvalid_0's auc: 0.947192\n",
      "[40]\tvalid_0's auc: 0.948016\n",
      "[41]\tvalid_0's auc: 0.94828\n",
      "[42]\tvalid_0's auc: 0.949084\n",
      "[43]\tvalid_0's auc: 0.949556\n",
      "[44]\tvalid_0's auc: 0.949765\n",
      "[45]\tvalid_0's auc: 0.949942\n",
      "[46]\tvalid_0's auc: 0.950669\n",
      "[47]\tvalid_0's auc: 0.951163\n",
      "[48]\tvalid_0's auc: 0.951511\n",
      "[49]\tvalid_0's auc: 0.951667\n",
      "[50]\tvalid_0's auc: 0.951887\n",
      "[51]\tvalid_0's auc: 0.952203\n",
      "[52]\tvalid_0's auc: 0.952354\n",
      "[53]\tvalid_0's auc: 0.952654\n",
      "[54]\tvalid_0's auc: 0.952808\n",
      "[55]\tvalid_0's auc: 0.952982\n",
      "[56]\tvalid_0's auc: 0.953136\n",
      "[57]\tvalid_0's auc: 0.953307\n",
      "[58]\tvalid_0's auc: 0.953338\n",
      "[59]\tvalid_0's auc: 0.953382\n",
      "[60]\tvalid_0's auc: 0.953592\n",
      "[61]\tvalid_0's auc: 0.95369\n",
      "[62]\tvalid_0's auc: 0.953802\n",
      "[63]\tvalid_0's auc: 0.953858\n",
      "[64]\tvalid_0's auc: 0.953942\n",
      "[65]\tvalid_0's auc: 0.953958\n",
      "[66]\tvalid_0's auc: 0.954148\n",
      "[67]\tvalid_0's auc: 0.954196\n",
      "[68]\tvalid_0's auc: 0.954292\n",
      "[69]\tvalid_0's auc: 0.95434\n",
      "[70]\tvalid_0's auc: 0.954466\n",
      "[71]\tvalid_0's auc: 0.954537\n",
      "[72]\tvalid_0's auc: 0.954632\n",
      "[73]\tvalid_0's auc: 0.95473\n",
      "[74]\tvalid_0's auc: 0.954776\n",
      "[75]\tvalid_0's auc: 0.95484\n",
      "[76]\tvalid_0's auc: 0.954935\n",
      "[77]\tvalid_0's auc: 0.954956\n",
      "[78]\tvalid_0's auc: 0.955025\n",
      "[79]\tvalid_0's auc: 0.955115\n",
      "[80]\tvalid_0's auc: 0.955199\n",
      "[81]\tvalid_0's auc: 0.955284\n",
      "[82]\tvalid_0's auc: 0.955375\n",
      "[83]\tvalid_0's auc: 0.955419\n",
      "[84]\tvalid_0's auc: 0.955481\n",
      "[85]\tvalid_0's auc: 0.95549\n",
      "[86]\tvalid_0's auc: 0.955548\n",
      "[87]\tvalid_0's auc: 0.955585\n",
      "[88]\tvalid_0's auc: 0.955673\n",
      "[89]\tvalid_0's auc: 0.955688\n",
      "[90]\tvalid_0's auc: 0.955729\n",
      "[91]\tvalid_0's auc: 0.955789\n",
      "[92]\tvalid_0's auc: 0.955831\n",
      "[93]\tvalid_0's auc: 0.955879\n",
      "[94]\tvalid_0's auc: 0.955928\n",
      "[95]\tvalid_0's auc: 0.95595\n",
      "[96]\tvalid_0's auc: 0.955959\n",
      "[97]\tvalid_0's auc: 0.955989\n",
      "[98]\tvalid_0's auc: 0.956026\n",
      "[99]\tvalid_0's auc: 0.956073\n",
      "[100]\tvalid_0's auc: 0.956115\n",
      "[101]\tvalid_0's auc: 0.956137\n",
      "[102]\tvalid_0's auc: 0.956153\n",
      "[103]\tvalid_0's auc: 0.956182\n",
      "[104]\tvalid_0's auc: 0.956239\n",
      "[105]\tvalid_0's auc: 0.956282\n",
      "[106]\tvalid_0's auc: 0.956347\n",
      "[107]\tvalid_0's auc: 0.956383\n",
      "[108]\tvalid_0's auc: 0.956422\n",
      "[109]\tvalid_0's auc: 0.956454\n",
      "[110]\tvalid_0's auc: 0.956473\n",
      "[111]\tvalid_0's auc: 0.956513\n",
      "[112]\tvalid_0's auc: 0.956558\n",
      "[113]\tvalid_0's auc: 0.95658\n",
      "[114]\tvalid_0's auc: 0.956626\n",
      "[115]\tvalid_0's auc: 0.956693\n",
      "[116]\tvalid_0's auc: 0.956701\n",
      "[117]\tvalid_0's auc: 0.956733\n",
      "[118]\tvalid_0's auc: 0.956774\n",
      "[119]\tvalid_0's auc: 0.956794\n",
      "[120]\tvalid_0's auc: 0.956831\n",
      "[121]\tvalid_0's auc: 0.95684\n",
      "[122]\tvalid_0's auc: 0.956867\n",
      "[123]\tvalid_0's auc: 0.956887\n",
      "[124]\tvalid_0's auc: 0.956871\n",
      "[125]\tvalid_0's auc: 0.956874\n",
      "[126]\tvalid_0's auc: 0.956896\n",
      "[127]\tvalid_0's auc: 0.956954\n",
      "[128]\tvalid_0's auc: 0.956982\n",
      "[129]\tvalid_0's auc: 0.957022\n",
      "[130]\tvalid_0's auc: 0.957029\n",
      "[131]\tvalid_0's auc: 0.957036\n",
      "[132]\tvalid_0's auc: 0.957056\n",
      "[133]\tvalid_0's auc: 0.957082\n",
      "[134]\tvalid_0's auc: 0.957079\n",
      "[135]\tvalid_0's auc: 0.957107\n",
      "[136]\tvalid_0's auc: 0.957129\n",
      "[137]\tvalid_0's auc: 0.957139\n",
      "[138]\tvalid_0's auc: 0.957136\n",
      "[139]\tvalid_0's auc: 0.957157\n",
      "[140]\tvalid_0's auc: 0.957205\n",
      "[141]\tvalid_0's auc: 0.957212\n",
      "[142]\tvalid_0's auc: 0.957208\n",
      "[143]\tvalid_0's auc: 0.957318\n",
      "[144]\tvalid_0's auc: 0.957351\n",
      "[145]\tvalid_0's auc: 0.957343\n",
      "[146]\tvalid_0's auc: 0.957351\n",
      "[147]\tvalid_0's auc: 0.957398\n",
      "[148]\tvalid_0's auc: 0.957389\n",
      "[149]\tvalid_0's auc: 0.957407\n",
      "[150]\tvalid_0's auc: 0.957427\n",
      "[151]\tvalid_0's auc: 0.957435\n",
      "[152]\tvalid_0's auc: 0.957445\n",
      "[153]\tvalid_0's auc: 0.957461\n",
      "[154]\tvalid_0's auc: 0.957483\n",
      "[155]\tvalid_0's auc: 0.957506\n",
      "[156]\tvalid_0's auc: 0.9576\n",
      "[157]\tvalid_0's auc: 0.957633\n",
      "[158]\tvalid_0's auc: 0.957663\n",
      "[159]\tvalid_0's auc: 0.957672\n",
      "[160]\tvalid_0's auc: 0.957707\n",
      "[161]\tvalid_0's auc: 0.95773\n",
      "[162]\tvalid_0's auc: 0.95774\n",
      "[163]\tvalid_0's auc: 0.957767\n",
      "[164]\tvalid_0's auc: 0.957787\n",
      "[165]\tvalid_0's auc: 0.957807\n",
      "[166]\tvalid_0's auc: 0.95783\n",
      "[167]\tvalid_0's auc: 0.957892\n",
      "[168]\tvalid_0's auc: 0.957911\n",
      "[169]\tvalid_0's auc: 0.957928\n",
      "[170]\tvalid_0's auc: 0.957957\n",
      "[171]\tvalid_0's auc: 0.957972\n",
      "[172]\tvalid_0's auc: 0.957982\n",
      "[173]\tvalid_0's auc: 0.958011\n",
      "[174]\tvalid_0's auc: 0.958022\n",
      "[175]\tvalid_0's auc: 0.958027\n",
      "[176]\tvalid_0's auc: 0.958051\n",
      "[177]\tvalid_0's auc: 0.958053\n",
      "[178]\tvalid_0's auc: 0.958058\n",
      "[179]\tvalid_0's auc: 0.958057\n",
      "[180]\tvalid_0's auc: 0.958062\n",
      "[181]\tvalid_0's auc: 0.958077\n",
      "[182]\tvalid_0's auc: 0.958109\n",
      "[183]\tvalid_0's auc: 0.958115\n",
      "[184]\tvalid_0's auc: 0.958126\n",
      "[185]\tvalid_0's auc: 0.95813\n",
      "[186]\tvalid_0's auc: 0.95814\n",
      "[187]\tvalid_0's auc: 0.95816\n",
      "[188]\tvalid_0's auc: 0.958156\n",
      "[189]\tvalid_0's auc: 0.958185\n",
      "[190]\tvalid_0's auc: 0.958207\n",
      "[191]\tvalid_0's auc: 0.958213\n",
      "[192]\tvalid_0's auc: 0.95822\n",
      "[193]\tvalid_0's auc: 0.958243\n",
      "[194]\tvalid_0's auc: 0.958261\n",
      "[195]\tvalid_0's auc: 0.958287\n",
      "[196]\tvalid_0's auc: 0.958289\n",
      "[197]\tvalid_0's auc: 0.958295\n",
      "[198]\tvalid_0's auc: 0.958341\n",
      "[199]\tvalid_0's auc: 0.958363\n",
      "[200]\tvalid_0's auc: 0.958357\n"
     ]
    }
   ],
   "source": [
    "early_stopping_rounds = 10\n",
    "eval_set = [(X_test, y_test)]\n",
    "grid_search = GridSearchCV(model, param_grid, scoring = 'roc_auc', cv = 5, verbose = 2, n_jobs = -1)\n",
    "grid_search.fit(X_train, y_train, early_stopping_rounds = early_stopping_rounds, eval_set = eval_set, eval_metric = 'auc')\n",
    "best_params = grid_search.best_params_\n",
    "best_score = grid_search.best_score_"
   ]
  },
  {
   "cell_type": "code",
   "execution_count": 22,
   "id": "1d353ba1",
   "metadata": {},
   "outputs": [
    {
     "data": {
      "text/plain": [
       "{'bagging_freq': 0,\n",
       " 'learning_rate': 0.1,\n",
       " 'max_depth': 8,\n",
       " 'metric': 'auc',\n",
       " 'n_estimators': 200,\n",
       " 'objective': 'binary'}"
      ]
     },
     "execution_count": 22,
     "metadata": {},
     "output_type": "execute_result"
    }
   ],
   "source": [
    "best_params"
   ]
  },
  {
   "cell_type": "code",
   "execution_count": null,
   "id": "e46ef2ae",
   "metadata": {},
   "outputs": [],
   "source": []
  }
 ],
 "metadata": {
  "kernelspec": {
   "display_name": "Python 3 (ipykernel)",
   "language": "python",
   "name": "python3"
  },
  "language_info": {
   "codemirror_mode": {
    "name": "ipython",
    "version": 3
   },
   "file_extension": ".py",
   "mimetype": "text/x-python",
   "name": "python",
   "nbconvert_exporter": "python",
   "pygments_lexer": "ipython3",
   "version": "3.9.13"
  }
 },
 "nbformat": 4,
 "nbformat_minor": 5
}
